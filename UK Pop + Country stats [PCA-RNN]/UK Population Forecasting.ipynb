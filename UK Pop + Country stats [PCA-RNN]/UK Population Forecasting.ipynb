{
 "cells": [
  {
   "cell_type": "code",
   "execution_count": 1,
   "metadata": {},
   "outputs": [],
   "source": [
    "import numpy as np\n",
    "import pandas as pd\n",
    "import matplotlib.pyplot as plt\n",
    "import seaborn as sns\n",
    "sns.set_style(\"whitegrid\")"
   ]
  },
  {
   "cell_type": "markdown",
   "metadata": {},
   "source": [
    "# Overview"
   ]
  },
  {
   "cell_type": "code",
   "execution_count": 196,
   "metadata": {},
   "outputs": [],
   "source": [
    "stats = pd.read_csv(\"UK-statistics-cleaned.csv\")"
   ]
  },
  {
   "cell_type": "code",
   "execution_count": 3,
   "metadata": {},
   "outputs": [
    {
     "data": {
      "text/html": [
       "<div>\n",
       "<style scoped>\n",
       "    .dataframe tbody tr th:only-of-type {\n",
       "        vertical-align: middle;\n",
       "    }\n",
       "\n",
       "    .dataframe tbody tr th {\n",
       "        vertical-align: top;\n",
       "    }\n",
       "\n",
       "    .dataframe thead th {\n",
       "        text-align: right;\n",
       "    }\n",
       "</style>\n",
       "<table border=\"1\" class=\"dataframe\">\n",
       "  <thead>\n",
       "    <tr style=\"text-align: right;\">\n",
       "      <th></th>\n",
       "      <th>Country Name</th>\n",
       "      <th>Country Code</th>\n",
       "      <th>Indicator Name</th>\n",
       "      <th>Indicator Code</th>\n",
       "      <th>1960</th>\n",
       "      <th>1961</th>\n",
       "      <th>1962</th>\n",
       "      <th>1963</th>\n",
       "      <th>1964</th>\n",
       "      <th>1965</th>\n",
       "      <th>...</th>\n",
       "      <th>2010</th>\n",
       "      <th>2011</th>\n",
       "      <th>2012</th>\n",
       "      <th>2013</th>\n",
       "      <th>2014</th>\n",
       "      <th>2015</th>\n",
       "      <th>2016</th>\n",
       "      <th>2017</th>\n",
       "      <th>2018</th>\n",
       "      <th>2019</th>\n",
       "    </tr>\n",
       "  </thead>\n",
       "  <tbody>\n",
       "    <tr>\n",
       "      <th>0</th>\n",
       "      <td>United Kingdom</td>\n",
       "      <td>GBR</td>\n",
       "      <td>Travel services (% of commercial service exports)</td>\n",
       "      <td>TX.VAL.TRVL.ZS.WT</td>\n",
       "      <td>NaN</td>\n",
       "      <td>NaN</td>\n",
       "      <td>NaN</td>\n",
       "      <td>NaN</td>\n",
       "      <td>NaN</td>\n",
       "      <td>NaN</td>\n",
       "      <td>...</td>\n",
       "      <td>1.215540e+01</td>\n",
       "      <td>1.177672e+01</td>\n",
       "      <td>1.219276e+01</td>\n",
       "      <td>1.280503e+01</td>\n",
       "      <td>1.328314e+01</td>\n",
       "      <td>1.379686e+01</td>\n",
       "      <td>1.325384e+01</td>\n",
       "      <td>1.281462e+01</td>\n",
       "      <td>1.197097e+01</td>\n",
       "      <td>NaN</td>\n",
       "    </tr>\n",
       "    <tr>\n",
       "      <th>1</th>\n",
       "      <td>United Kingdom</td>\n",
       "      <td>GBR</td>\n",
       "      <td>Transport services (% of commercial service ex...</td>\n",
       "      <td>TX.VAL.TRAN.ZS.WT</td>\n",
       "      <td>NaN</td>\n",
       "      <td>NaN</td>\n",
       "      <td>NaN</td>\n",
       "      <td>NaN</td>\n",
       "      <td>NaN</td>\n",
       "      <td>NaN</td>\n",
       "      <td>...</td>\n",
       "      <td>1.044273e+01</td>\n",
       "      <td>1.023326e+01</td>\n",
       "      <td>1.052537e+01</td>\n",
       "      <td>1.042766e+01</td>\n",
       "      <td>1.086432e+01</td>\n",
       "      <td>1.070288e+01</td>\n",
       "      <td>1.013663e+01</td>\n",
       "      <td>1.016392e+01</td>\n",
       "      <td>9.697650e+00</td>\n",
       "      <td>NaN</td>\n",
       "    </tr>\n",
       "    <tr>\n",
       "      <th>2</th>\n",
       "      <td>United Kingdom</td>\n",
       "      <td>GBR</td>\n",
       "      <td>Commercial service exports (current US$)</td>\n",
       "      <td>TX.VAL.SERV.CD.WT</td>\n",
       "      <td>NaN</td>\n",
       "      <td>NaN</td>\n",
       "      <td>NaN</td>\n",
       "      <td>NaN</td>\n",
       "      <td>NaN</td>\n",
       "      <td>NaN</td>\n",
       "      <td>...</td>\n",
       "      <td>2.860000e+11</td>\n",
       "      <td>3.300000e+11</td>\n",
       "      <td>3.360000e+11</td>\n",
       "      <td>3.600000e+11</td>\n",
       "      <td>3.880000e+11</td>\n",
       "      <td>3.690000e+11</td>\n",
       "      <td>3.600000e+11</td>\n",
       "      <td>3.720000e+11</td>\n",
       "      <td>4.050000e+11</td>\n",
       "      <td>NaN</td>\n",
       "    </tr>\n",
       "    <tr>\n",
       "      <th>3</th>\n",
       "      <td>United Kingdom</td>\n",
       "      <td>GBR</td>\n",
       "      <td>Computer, communications and other services (%...</td>\n",
       "      <td>TX.VAL.OTHR.ZS.WT</td>\n",
       "      <td>NaN</td>\n",
       "      <td>NaN</td>\n",
       "      <td>NaN</td>\n",
       "      <td>NaN</td>\n",
       "      <td>NaN</td>\n",
       "      <td>NaN</td>\n",
       "      <td>...</td>\n",
       "      <td>4.434318e+01</td>\n",
       "      <td>4.356506e+01</td>\n",
       "      <td>4.467153e+01</td>\n",
       "      <td>4.426253e+01</td>\n",
       "      <td>4.531096e+01</td>\n",
       "      <td>4.697982e+01</td>\n",
       "      <td>4.835545e+01</td>\n",
       "      <td>5.016917e+01</td>\n",
       "      <td>5.108982e+01</td>\n",
       "      <td>NaN</td>\n",
       "    </tr>\n",
       "    <tr>\n",
       "      <th>4</th>\n",
       "      <td>United Kingdom</td>\n",
       "      <td>GBR</td>\n",
       "      <td>Merchandise exports by the reporting economy (...</td>\n",
       "      <td>TX.VAL.MRCH.WL.CD</td>\n",
       "      <td>1.034090e+10</td>\n",
       "      <td>1.079710e+10</td>\n",
       "      <td>1.108620e+10</td>\n",
       "      <td>1.193530e+10</td>\n",
       "      <td>1.251210e+10</td>\n",
       "      <td>1.341540e+10</td>\n",
       "      <td>...</td>\n",
       "      <td>4.160000e+11</td>\n",
       "      <td>5.060000e+11</td>\n",
       "      <td>4.730000e+11</td>\n",
       "      <td>5.400000e+11</td>\n",
       "      <td>5.050000e+11</td>\n",
       "      <td>4.600000e+11</td>\n",
       "      <td>4.090000e+11</td>\n",
       "      <td>4.410000e+11</td>\n",
       "      <td>4.870000e+11</td>\n",
       "      <td>NaN</td>\n",
       "    </tr>\n",
       "  </tbody>\n",
       "</table>\n",
       "<p>5 rows × 64 columns</p>\n",
       "</div>"
      ],
      "text/plain": [
       "     Country Name Country Code  \\\n",
       "0  United Kingdom          GBR   \n",
       "1  United Kingdom          GBR   \n",
       "2  United Kingdom          GBR   \n",
       "3  United Kingdom          GBR   \n",
       "4  United Kingdom          GBR   \n",
       "\n",
       "                                      Indicator Name     Indicator Code  \\\n",
       "0  Travel services (% of commercial service exports)  TX.VAL.TRVL.ZS.WT   \n",
       "1  Transport services (% of commercial service ex...  TX.VAL.TRAN.ZS.WT   \n",
       "2           Commercial service exports (current US$)  TX.VAL.SERV.CD.WT   \n",
       "3  Computer, communications and other services (%...  TX.VAL.OTHR.ZS.WT   \n",
       "4  Merchandise exports by the reporting economy (...  TX.VAL.MRCH.WL.CD   \n",
       "\n",
       "           1960          1961          1962          1963          1964  \\\n",
       "0           NaN           NaN           NaN           NaN           NaN   \n",
       "1           NaN           NaN           NaN           NaN           NaN   \n",
       "2           NaN           NaN           NaN           NaN           NaN   \n",
       "3           NaN           NaN           NaN           NaN           NaN   \n",
       "4  1.034090e+10  1.079710e+10  1.108620e+10  1.193530e+10  1.251210e+10   \n",
       "\n",
       "           1965  ...          2010          2011          2012          2013  \\\n",
       "0           NaN  ...  1.215540e+01  1.177672e+01  1.219276e+01  1.280503e+01   \n",
       "1           NaN  ...  1.044273e+01  1.023326e+01  1.052537e+01  1.042766e+01   \n",
       "2           NaN  ...  2.860000e+11  3.300000e+11  3.360000e+11  3.600000e+11   \n",
       "3           NaN  ...  4.434318e+01  4.356506e+01  4.467153e+01  4.426253e+01   \n",
       "4  1.341540e+10  ...  4.160000e+11  5.060000e+11  4.730000e+11  5.400000e+11   \n",
       "\n",
       "           2014          2015          2016          2017          2018  2019  \n",
       "0  1.328314e+01  1.379686e+01  1.325384e+01  1.281462e+01  1.197097e+01   NaN  \n",
       "1  1.086432e+01  1.070288e+01  1.013663e+01  1.016392e+01  9.697650e+00   NaN  \n",
       "2  3.880000e+11  3.690000e+11  3.600000e+11  3.720000e+11  4.050000e+11   NaN  \n",
       "3  4.531096e+01  4.697982e+01  4.835545e+01  5.016917e+01  5.108982e+01   NaN  \n",
       "4  5.050000e+11  4.600000e+11  4.090000e+11  4.410000e+11  4.870000e+11   NaN  \n",
       "\n",
       "[5 rows x 64 columns]"
      ]
     },
     "execution_count": 3,
     "metadata": {},
     "output_type": "execute_result"
    }
   ],
   "source": [
    "stats.head()"
   ]
  },
  {
   "cell_type": "code",
   "execution_count": 4,
   "metadata": {},
   "outputs": [
    {
     "name": "stdout",
     "output_type": "stream",
     "text": [
      "<class 'pandas.core.frame.DataFrame'>\n",
      "RangeIndex: 515 entries, 0 to 514\n",
      "Data columns (total 64 columns):\n",
      " #   Column          Non-Null Count  Dtype  \n",
      "---  ------          --------------  -----  \n",
      " 0   Country Name    515 non-null    object \n",
      " 1   Country Code    515 non-null    object \n",
      " 2   Indicator Name  515 non-null    object \n",
      " 3   Indicator Code  515 non-null    object \n",
      " 4   1960            196 non-null    float64\n",
      " 5   1961            222 non-null    float64\n",
      " 6   1962            226 non-null    float64\n",
      " 7   1963            230 non-null    float64\n",
      " 8   1964            225 non-null    float64\n",
      " 9   1965            230 non-null    float64\n",
      " 10  1966            232 non-null    float64\n",
      " 11  1967            230 non-null    float64\n",
      " 12  1968            234 non-null    float64\n",
      " 13  1969            238 non-null    float64\n",
      " 14  1970            401 non-null    float64\n",
      " 15  1971            471 non-null    float64\n",
      " 16  1972            498 non-null    float64\n",
      " 17  1973            499 non-null    float64\n",
      " 18  1974            497 non-null    float64\n",
      " 19  1975            502 non-null    float64\n",
      " 20  1976            501 non-null    float64\n",
      " 21  1977            502 non-null    float64\n",
      " 22  1978            501 non-null    float64\n",
      " 23  1979            501 non-null    float64\n",
      " 24  1980            499 non-null    float64\n",
      " 25  1981            504 non-null    float64\n",
      " 26  1982            501 non-null    float64\n",
      " 27  1983            501 non-null    float64\n",
      " 28  1984            501 non-null    float64\n",
      " 29  1985            499 non-null    float64\n",
      " 30  1986            500 non-null    float64\n",
      " 31  1987            502 non-null    float64\n",
      " 32  1988            496 non-null    float64\n",
      " 33  1989            487 non-null    float64\n",
      " 34  1990            491 non-null    float64\n",
      " 35  1991            498 non-null    float64\n",
      " 36  1992            495 non-null    float64\n",
      " 37  1993            472 non-null    float64\n",
      " 38  1994            472 non-null    float64\n",
      " 39  1995            473 non-null    float64\n",
      " 40  1996            472 non-null    float64\n",
      " 41  1997            469 non-null    float64\n",
      " 42  1998            489 non-null    float64\n",
      " 43  1999            492 non-null    float64\n",
      " 44  2000            493 non-null    float64\n",
      " 45  2001            490 non-null    float64\n",
      " 46  2002            499 non-null    float64\n",
      " 47  2003            490 non-null    float64\n",
      " 48  2004            498 non-null    float64\n",
      " 49  2005            491 non-null    float64\n",
      " 50  2006            500 non-null    float64\n",
      " 51  2007            501 non-null    float64\n",
      " 52  2008            500 non-null    float64\n",
      " 53  2009            493 non-null    float64\n",
      " 54  2010            494 non-null    float64\n",
      " 55  2011            495 non-null    float64\n",
      " 56  2012            492 non-null    float64\n",
      " 57  2013            491 non-null    float64\n",
      " 58  2014            481 non-null    float64\n",
      " 59  2015            457 non-null    float64\n",
      " 60  2016            439 non-null    float64\n",
      " 61  2017            426 non-null    float64\n",
      " 62  2018            370 non-null    float64\n",
      " 63  2019            19 non-null     float64\n",
      "dtypes: float64(60), object(4)\n",
      "memory usage: 257.6+ KB\n"
     ]
    }
   ],
   "source": [
    "stats.info()"
   ]
  },
  {
   "cell_type": "markdown",
   "metadata": {},
   "source": [
    "# Population"
   ]
  },
  {
   "cell_type": "code",
   "execution_count": 5,
   "metadata": {},
   "outputs": [
    {
     "data": {
      "text/plain": [
       "['Urban population',\n",
       " 'Urban population growth (annual %)',\n",
       " 'Rural population (% of total population)',\n",
       " 'Rural population growth (annual %)',\n",
       " 'Rural population',\n",
       " 'Population, male (% of total population)',\n",
       " 'Population, female (% of total population)']"
      ]
     },
     "execution_count": 5,
     "metadata": {},
     "output_type": "execute_result"
    }
   ],
   "source": [
    "[i for i in stats[\"Indicator Name\"] if \"population\" in i][0:7]\n",
    "#creating a dataframe with selected population figures: urban, rural"
   ]
  },
  {
   "cell_type": "code",
   "execution_count": 6,
   "metadata": {},
   "outputs": [
    {
     "data": {
      "text/plain": [
       "['Population, male (% of total population)',\n",
       " 'Population, male',\n",
       " 'Population, female (% of total population)',\n",
       " 'Population, female',\n",
       " 'Population, total',\n",
       " 'Population growth (annual %)']"
      ]
     },
     "execution_count": 6,
     "metadata": {},
     "output_type": "execute_result"
    }
   ],
   "source": [
    "[i for i in stats[\"Indicator Name\"] if \"Population\" in i][0:6]\n",
    "#creating a dataframe with selected population figures: total, male, female, urban, rural"
   ]
  },
  {
   "cell_type": "code",
   "execution_count": 7,
   "metadata": {},
   "outputs": [
    {
     "data": {
      "text/html": [
       "<div>\n",
       "<style scoped>\n",
       "    .dataframe tbody tr th:only-of-type {\n",
       "        vertical-align: middle;\n",
       "    }\n",
       "\n",
       "    .dataframe tbody tr th {\n",
       "        vertical-align: top;\n",
       "    }\n",
       "\n",
       "    .dataframe thead th {\n",
       "        text-align: right;\n",
       "    }\n",
       "</style>\n",
       "<table border=\"1\" class=\"dataframe\">\n",
       "  <thead>\n",
       "    <tr style=\"text-align: right;\">\n",
       "      <th></th>\n",
       "      <th>Country Name</th>\n",
       "      <th>Country Code</th>\n",
       "      <th>Indicator Name</th>\n",
       "      <th>Indicator Code</th>\n",
       "      <th>1960</th>\n",
       "      <th>1961</th>\n",
       "      <th>1962</th>\n",
       "      <th>1963</th>\n",
       "      <th>1964</th>\n",
       "      <th>1965</th>\n",
       "      <th>...</th>\n",
       "      <th>2010</th>\n",
       "      <th>2011</th>\n",
       "      <th>2012</th>\n",
       "      <th>2013</th>\n",
       "      <th>2014</th>\n",
       "      <th>2015</th>\n",
       "      <th>2016</th>\n",
       "      <th>2017</th>\n",
       "      <th>2018</th>\n",
       "      <th>2019</th>\n",
       "    </tr>\n",
       "  </thead>\n",
       "  <tbody>\n",
       "    <tr>\n",
       "      <th>43</th>\n",
       "      <td>United Kingdom</td>\n",
       "      <td>GBR</td>\n",
       "      <td>Urban population</td>\n",
       "      <td>SP.URB.TOTL</td>\n",
       "      <td>41104656.0</td>\n",
       "      <td>41381472.0</td>\n",
       "      <td>41661202.0</td>\n",
       "      <td>41900114.0</td>\n",
       "      <td>42098400.0</td>\n",
       "      <td>42294196.0</td>\n",
       "      <td>...</td>\n",
       "      <td>51030310.0</td>\n",
       "      <td>51600211.0</td>\n",
       "      <td>52130345.0</td>\n",
       "      <td>52650595.0</td>\n",
       "      <td>53209683.0</td>\n",
       "      <td>53802927.0</td>\n",
       "      <td>54382825.0</td>\n",
       "      <td>54923317.0</td>\n",
       "      <td>55426598.0</td>\n",
       "      <td>NaN</td>\n",
       "    </tr>\n",
       "    <tr>\n",
       "      <th>47</th>\n",
       "      <td>United Kingdom</td>\n",
       "      <td>GBR</td>\n",
       "      <td>Rural population</td>\n",
       "      <td>SP.RUR.TOTL</td>\n",
       "      <td>11295344.0</td>\n",
       "      <td>11418528.0</td>\n",
       "      <td>11588798.0</td>\n",
       "      <td>11749886.0</td>\n",
       "      <td>11901600.0</td>\n",
       "      <td>12053854.0</td>\n",
       "      <td>...</td>\n",
       "      <td>11736055.0</td>\n",
       "      <td>11658599.0</td>\n",
       "      <td>11569870.0</td>\n",
       "      <td>11477678.0</td>\n",
       "      <td>11392615.0</td>\n",
       "      <td>11313292.0</td>\n",
       "      <td>11228768.0</td>\n",
       "      <td>11135542.0</td>\n",
       "      <td>11033746.0</td>\n",
       "      <td>NaN</td>\n",
       "    </tr>\n",
       "    <tr>\n",
       "      <th>49</th>\n",
       "      <td>United Kingdom</td>\n",
       "      <td>GBR</td>\n",
       "      <td>Population, male</td>\n",
       "      <td>SP.POP.TOTL.MA.IN</td>\n",
       "      <td>25305010.0</td>\n",
       "      <td>25522300.0</td>\n",
       "      <td>25765002.0</td>\n",
       "      <td>25982724.0</td>\n",
       "      <td>26172821.0</td>\n",
       "      <td>26356866.0</td>\n",
       "      <td>...</td>\n",
       "      <td>30834622.0</td>\n",
       "      <td>31097291.0</td>\n",
       "      <td>31335746.0</td>\n",
       "      <td>31567929.0</td>\n",
       "      <td>31822154.0</td>\n",
       "      <td>32094826.0</td>\n",
       "      <td>32356947.0</td>\n",
       "      <td>32594185.0</td>\n",
       "      <td>32807966.0</td>\n",
       "      <td>NaN</td>\n",
       "    </tr>\n",
       "    <tr>\n",
       "      <th>51</th>\n",
       "      <td>United Kingdom</td>\n",
       "      <td>GBR</td>\n",
       "      <td>Population, female</td>\n",
       "      <td>SP.POP.TOTL.FE.IN</td>\n",
       "      <td>27094990.0</td>\n",
       "      <td>27277700.0</td>\n",
       "      <td>27484998.0</td>\n",
       "      <td>27667276.0</td>\n",
       "      <td>27827179.0</td>\n",
       "      <td>27991184.0</td>\n",
       "      <td>...</td>\n",
       "      <td>31931743.0</td>\n",
       "      <td>32161519.0</td>\n",
       "      <td>32364469.0</td>\n",
       "      <td>32560344.0</td>\n",
       "      <td>32780144.0</td>\n",
       "      <td>33021393.0</td>\n",
       "      <td>33254646.0</td>\n",
       "      <td>33464674.0</td>\n",
       "      <td>33652378.0</td>\n",
       "      <td>NaN</td>\n",
       "    </tr>\n",
       "    <tr>\n",
       "      <th>52</th>\n",
       "      <td>United Kingdom</td>\n",
       "      <td>GBR</td>\n",
       "      <td>Population, total</td>\n",
       "      <td>SP.POP.TOTL</td>\n",
       "      <td>52400000.0</td>\n",
       "      <td>52800000.0</td>\n",
       "      <td>53250000.0</td>\n",
       "      <td>53650000.0</td>\n",
       "      <td>54000000.0</td>\n",
       "      <td>54348050.0</td>\n",
       "      <td>...</td>\n",
       "      <td>62766365.0</td>\n",
       "      <td>63258810.0</td>\n",
       "      <td>63700215.0</td>\n",
       "      <td>64128273.0</td>\n",
       "      <td>64602298.0</td>\n",
       "      <td>65116219.0</td>\n",
       "      <td>65611593.0</td>\n",
       "      <td>66058859.0</td>\n",
       "      <td>66460344.0</td>\n",
       "      <td>NaN</td>\n",
       "    </tr>\n",
       "  </tbody>\n",
       "</table>\n",
       "<p>5 rows × 64 columns</p>\n",
       "</div>"
      ],
      "text/plain": [
       "      Country Name Country Code      Indicator Name     Indicator Code  \\\n",
       "43  United Kingdom          GBR    Urban population        SP.URB.TOTL   \n",
       "47  United Kingdom          GBR    Rural population        SP.RUR.TOTL   \n",
       "49  United Kingdom          GBR    Population, male  SP.POP.TOTL.MA.IN   \n",
       "51  United Kingdom          GBR  Population, female  SP.POP.TOTL.FE.IN   \n",
       "52  United Kingdom          GBR   Population, total        SP.POP.TOTL   \n",
       "\n",
       "          1960        1961        1962        1963        1964        1965  \\\n",
       "43  41104656.0  41381472.0  41661202.0  41900114.0  42098400.0  42294196.0   \n",
       "47  11295344.0  11418528.0  11588798.0  11749886.0  11901600.0  12053854.0   \n",
       "49  25305010.0  25522300.0  25765002.0  25982724.0  26172821.0  26356866.0   \n",
       "51  27094990.0  27277700.0  27484998.0  27667276.0  27827179.0  27991184.0   \n",
       "52  52400000.0  52800000.0  53250000.0  53650000.0  54000000.0  54348050.0   \n",
       "\n",
       "    ...        2010        2011        2012        2013        2014  \\\n",
       "43  ...  51030310.0  51600211.0  52130345.0  52650595.0  53209683.0   \n",
       "47  ...  11736055.0  11658599.0  11569870.0  11477678.0  11392615.0   \n",
       "49  ...  30834622.0  31097291.0  31335746.0  31567929.0  31822154.0   \n",
       "51  ...  31931743.0  32161519.0  32364469.0  32560344.0  32780144.0   \n",
       "52  ...  62766365.0  63258810.0  63700215.0  64128273.0  64602298.0   \n",
       "\n",
       "          2015        2016        2017        2018  2019  \n",
       "43  53802927.0  54382825.0  54923317.0  55426598.0   NaN  \n",
       "47  11313292.0  11228768.0  11135542.0  11033746.0   NaN  \n",
       "49  32094826.0  32356947.0  32594185.0  32807966.0   NaN  \n",
       "51  33021393.0  33254646.0  33464674.0  33652378.0   NaN  \n",
       "52  65116219.0  65611593.0  66058859.0  66460344.0   NaN  \n",
       "\n",
       "[5 rows x 64 columns]"
      ]
     },
     "execution_count": 7,
     "metadata": {},
     "output_type": "execute_result"
    }
   ],
   "source": [
    "pop_df = stats[stats[\"Indicator Name\"].isin([\"Population, total\",\"Population, male\",\"Population, female\",\n",
    "                              \"Urban population\",\"Rural population\"])]\n",
    "pop_df.head()"
   ]
  },
  {
   "cell_type": "code",
   "execution_count": 8,
   "metadata": {},
   "outputs": [],
   "source": [
    "pop_df = pop_df.transpose()"
   ]
  },
  {
   "cell_type": "code",
   "execution_count": 9,
   "metadata": {},
   "outputs": [],
   "source": [
    "pop_df.columns = pop_df.loc[\"Indicator Name\"].values"
   ]
  },
  {
   "cell_type": "code",
   "execution_count": 10,
   "metadata": {},
   "outputs": [],
   "source": [
    "pop_df.drop([\"Country Name\", \"Country Code\", \"Indicator Name\", \"Indicator Code\"], inplace=True)"
   ]
  },
  {
   "cell_type": "code",
   "execution_count": 11,
   "metadata": {},
   "outputs": [
    {
     "data": {
      "text/html": [
       "<div>\n",
       "<style scoped>\n",
       "    .dataframe tbody tr th:only-of-type {\n",
       "        vertical-align: middle;\n",
       "    }\n",
       "\n",
       "    .dataframe tbody tr th {\n",
       "        vertical-align: top;\n",
       "    }\n",
       "\n",
       "    .dataframe thead th {\n",
       "        text-align: right;\n",
       "    }\n",
       "</style>\n",
       "<table border=\"1\" class=\"dataframe\">\n",
       "  <thead>\n",
       "    <tr style=\"text-align: right;\">\n",
       "      <th></th>\n",
       "      <th>Urban population</th>\n",
       "      <th>Rural population</th>\n",
       "      <th>Population, male</th>\n",
       "      <th>Population, female</th>\n",
       "      <th>Population, total</th>\n",
       "    </tr>\n",
       "  </thead>\n",
       "  <tbody>\n",
       "    <tr>\n",
       "      <th>1960</th>\n",
       "      <td>4.11047e+07</td>\n",
       "      <td>1.12953e+07</td>\n",
       "      <td>2.5305e+07</td>\n",
       "      <td>2.7095e+07</td>\n",
       "      <td>5.24e+07</td>\n",
       "    </tr>\n",
       "    <tr>\n",
       "      <th>1961</th>\n",
       "      <td>4.13815e+07</td>\n",
       "      <td>1.14185e+07</td>\n",
       "      <td>2.55223e+07</td>\n",
       "      <td>2.72777e+07</td>\n",
       "      <td>5.28e+07</td>\n",
       "    </tr>\n",
       "    <tr>\n",
       "      <th>1962</th>\n",
       "      <td>4.16612e+07</td>\n",
       "      <td>1.15888e+07</td>\n",
       "      <td>2.5765e+07</td>\n",
       "      <td>2.7485e+07</td>\n",
       "      <td>5.325e+07</td>\n",
       "    </tr>\n",
       "    <tr>\n",
       "      <th>1963</th>\n",
       "      <td>4.19001e+07</td>\n",
       "      <td>1.17499e+07</td>\n",
       "      <td>2.59827e+07</td>\n",
       "      <td>2.76673e+07</td>\n",
       "      <td>5.365e+07</td>\n",
       "    </tr>\n",
       "    <tr>\n",
       "      <th>1964</th>\n",
       "      <td>4.20984e+07</td>\n",
       "      <td>1.19016e+07</td>\n",
       "      <td>2.61728e+07</td>\n",
       "      <td>2.78272e+07</td>\n",
       "      <td>5.4e+07</td>\n",
       "    </tr>\n",
       "  </tbody>\n",
       "</table>\n",
       "</div>"
      ],
      "text/plain": [
       "     Urban population Rural population Population, male Population, female  \\\n",
       "1960      4.11047e+07      1.12953e+07       2.5305e+07         2.7095e+07   \n",
       "1961      4.13815e+07      1.14185e+07      2.55223e+07        2.72777e+07   \n",
       "1962      4.16612e+07      1.15888e+07       2.5765e+07         2.7485e+07   \n",
       "1963      4.19001e+07      1.17499e+07      2.59827e+07        2.76673e+07   \n",
       "1964      4.20984e+07      1.19016e+07      2.61728e+07        2.78272e+07   \n",
       "\n",
       "     Population, total  \n",
       "1960          5.24e+07  \n",
       "1961          5.28e+07  \n",
       "1962         5.325e+07  \n",
       "1963         5.365e+07  \n",
       "1964           5.4e+07  "
      ]
     },
     "execution_count": 11,
     "metadata": {},
     "output_type": "execute_result"
    }
   ],
   "source": [
    "pop_df.head()"
   ]
  },
  {
   "cell_type": "code",
   "execution_count": 12,
   "metadata": {},
   "outputs": [],
   "source": [
    "pop_df.dropna(inplace=True)\n",
    "#2019 row was null"
   ]
  },
  {
   "cell_type": "code",
   "execution_count": 13,
   "metadata": {},
   "outputs": [],
   "source": [
    "pop_df = pop_df.astype(int)"
   ]
  },
  {
   "cell_type": "code",
   "execution_count": 14,
   "metadata": {},
   "outputs": [
    {
     "data": {
      "text/plain": [
       "<matplotlib.axes._subplots.AxesSubplot at 0x2067f70a340>"
      ]
     },
     "execution_count": 14,
     "metadata": {},
     "output_type": "execute_result"
    },
    {
     "data": {
      "image/png": "[encoded data removed]",
      "text/plain": [
       "<Figure size 864x576 with 1 Axes>"
      ]
     },
     "metadata": {},
     "output_type": "display_data"
    }
   ],
   "source": [
    "pop_df.plot(figsize=(12,8))\n",
    "#overall population is steadily increasing\n",
    "#overall pop seems to be influenced by urban pop increase\n",
    "#male and female increase at about the same rate\n",
    "#rural pop is in decline"
   ]
  },
  {
   "cell_type": "code",
   "execution_count": 15,
   "metadata": {},
   "outputs": [
    {
     "data": {
      "text/plain": [
       "<matplotlib.axes._subplots.AxesSubplot at 0x2067f720c10>"
      ]
     },
     "execution_count": 15,
     "metadata": {},
     "output_type": "execute_result"
    },
    {
     "data": {
      "image/png": "[encoded data removed]",
      "text/plain": [
       "<Figure size 720x432 with 1 Axes>"
      ]
     },
     "metadata": {},
     "output_type": "display_data"
    }
   ],
   "source": [
    "pop_df[\"Rural population\"].plot(figsize=(10,6))"
   ]
  },
  {
   "cell_type": "code",
   "execution_count": 16,
   "metadata": {},
   "outputs": [
    {
     "data": {
      "text/plain": [
       "-0.12242277337489978"
      ]
     },
     "execution_count": 16,
     "metadata": {},
     "output_type": "execute_result"
    }
   ],
   "source": [
    "rur2000 = pop_df[\"Rural population\"][\"2000\"]\n",
    "rur2018 = pop_df[\"Rural population\"][\"2018\"]\n",
    "\n",
    "(rur2018 - rur2000) / rur2000\n",
    "#12.2% drop in rural pop from 2000 to 2018"
   ]
  },
  {
   "cell_type": "code",
   "execution_count": 17,
   "metadata": {},
   "outputs": [
    {
     "data": {
      "text/plain": [
       "<matplotlib.axes._subplots.AxesSubplot at 0x2067f9a8e80>"
      ]
     },
     "execution_count": 17,
     "metadata": {},
     "output_type": "execute_result"
    },
    {
     "data": {
      "image/png": "[encoded data removed]",
      "text/plain": [
       "<Figure size 720x432 with 1 Axes>"
      ]
     },
     "metadata": {},
     "output_type": "display_data"
    }
   ],
   "source": [
    "pop_df[\"Urban population\"].plot(figsize=(10,6))"
   ]
  },
  {
   "cell_type": "code",
   "execution_count": 18,
   "metadata": {},
   "outputs": [
    {
     "data": {
      "text/plain": [
       "0.19661345594649654"
      ]
     },
     "execution_count": 18,
     "metadata": {},
     "output_type": "execute_result"
    }
   ],
   "source": [
    "urb2000 = pop_df[\"Urban population\"][\"2000\"]\n",
    "urb2018 = pop_df[\"Urban population\"][\"2018\"]\n",
    "\n",
    "(urb2018 - urb2000) / urb2000\n",
    "#19.7% increase in urban population from 2000 to 2018"
   ]
  },
  {
   "cell_type": "code",
   "execution_count": 19,
   "metadata": {},
   "outputs": [
    {
     "data": {
      "text/plain": [
       "<matplotlib.axes._subplots.AxesSubplot at 0x2067f854040>"
      ]
     },
     "execution_count": 19,
     "metadata": {},
     "output_type": "execute_result"
    },
    {
     "data": {
      "image/png": "[encoded data removed]",
      "text/plain": [
       "<Figure size 432x288 with 2 Axes>"
      ]
     },
     "metadata": {},
     "output_type": "display_data"
    }
   ],
   "source": [
    "sns.heatmap(pop_df.corr(), annot=True)\n",
    "#perfect correlation, shows integrity of the statistics"
   ]
  },
  {
   "cell_type": "code",
   "execution_count": 20,
   "metadata": {},
   "outputs": [
    {
     "data": {
      "text/html": [
       "<div>\n",
       "<style scoped>\n",
       "    .dataframe tbody tr th:only-of-type {\n",
       "        vertical-align: middle;\n",
       "    }\n",
       "\n",
       "    .dataframe tbody tr th {\n",
       "        vertical-align: top;\n",
       "    }\n",
       "\n",
       "    .dataframe thead th {\n",
       "        text-align: right;\n",
       "    }\n",
       "</style>\n",
       "<table border=\"1\" class=\"dataframe\">\n",
       "  <thead>\n",
       "    <tr style=\"text-align: right;\">\n",
       "      <th></th>\n",
       "      <th>Urban population</th>\n",
       "      <th>Rural population</th>\n",
       "    </tr>\n",
       "  </thead>\n",
       "  <tbody>\n",
       "    <tr>\n",
       "      <th>Urban population</th>\n",
       "      <td>1.000000</td>\n",
       "      <td>-0.590236</td>\n",
       "    </tr>\n",
       "    <tr>\n",
       "      <th>Rural population</th>\n",
       "      <td>-0.590236</td>\n",
       "      <td>1.000000</td>\n",
       "    </tr>\n",
       "  </tbody>\n",
       "</table>\n",
       "</div>"
      ],
      "text/plain": [
       "                  Urban population  Rural population\n",
       "Urban population          1.000000         -0.590236\n",
       "Rural population         -0.590236          1.000000"
      ]
     },
     "execution_count": 20,
     "metadata": {},
     "output_type": "execute_result"
    }
   ],
   "source": [
    "pop_df[[\"Urban population\", \"Rural population\"]].corr()"
   ]
  },
  {
   "cell_type": "code",
   "execution_count": null,
   "metadata": {},
   "outputs": [],
   "source": []
  },
  {
   "cell_type": "markdown",
   "metadata": {},
   "source": [
    "## Rural population forecast (SINGLE FEATURE)"
   ]
  },
  {
   "cell_type": "code",
   "execution_count": 21,
   "metadata": {},
   "outputs": [],
   "source": [
    "r_pop_x = pop_df[\"Rural population\"]"
   ]
  },
  {
   "cell_type": "code",
   "execution_count": 22,
   "metadata": {},
   "outputs": [
    {
     "data": {
      "text/plain": [
       "59"
      ]
     },
     "execution_count": 22,
     "metadata": {},
     "output_type": "execute_result"
    }
   ],
   "source": [
    "len(r_pop_x)"
   ]
  },
  {
   "cell_type": "code",
   "execution_count": 23,
   "metadata": {},
   "outputs": [
    {
     "data": {
      "text/plain": [
       "(59,)"
      ]
     },
     "execution_count": 23,
     "metadata": {},
     "output_type": "execute_result"
    }
   ],
   "source": [
    "r_pop_x.shape"
   ]
  },
  {
   "cell_type": "code",
   "execution_count": 24,
   "metadata": {},
   "outputs": [],
   "source": [
    "#determine test size, 9 years and create index for split\n",
    "r_test_size = 10\n",
    "r_test_index = len(r_pop_x) - r_test_size"
   ]
  },
  {
   "cell_type": "code",
   "execution_count": 25,
   "metadata": {},
   "outputs": [],
   "source": [
    "#split into unscaled test and train\n",
    "r_train = pd.DataFrame(r_pop_x[:r_test_index])\n",
    "r_test = pd.DataFrame(r_pop_x[r_test_index:])"
   ]
  },
  {
   "cell_type": "code",
   "execution_count": 26,
   "metadata": {},
   "outputs": [],
   "source": [
    "from sklearn.preprocessing import MinMaxScaler"
   ]
  },
  {
   "cell_type": "code",
   "execution_count": 27,
   "metadata": {},
   "outputs": [],
   "source": [
    "scaler = MinMaxScaler()"
   ]
  },
  {
   "cell_type": "code",
   "execution_count": 28,
   "metadata": {},
   "outputs": [],
   "source": [
    "#scale train and test\n",
    "scaled_r_train = scaler.fit_transform(r_train)\n",
    "scaled_r_test = scaler.transform(r_test)"
   ]
  },
  {
   "cell_type": "markdown",
   "metadata": {},
   "source": [
    "### Build generators"
   ]
  },
  {
   "cell_type": "code",
   "execution_count": 29,
   "metadata": {},
   "outputs": [],
   "source": [
    "from tensorflow.keras.preprocessing.sequence import TimeseriesGenerator"
   ]
  },
  {
   "cell_type": "code",
   "execution_count": 30,
   "metadata": {},
   "outputs": [],
   "source": [
    "#generator\n",
    "length = 9 #must be smaller than test_size 10\n",
    "generator = TimeseriesGenerator(scaled_r_train, scaled_r_train,\n",
    "                               length=length, batch_size=1)"
   ]
  },
  {
   "cell_type": "code",
   "execution_count": 31,
   "metadata": {},
   "outputs": [],
   "source": [
    "#validation generator\n",
    "val_generator = TimeseriesGenerator(scaled_r_test, scaled_r_test,\n",
    "                                   length=length, batch_size=1)"
   ]
  },
  {
   "cell_type": "markdown",
   "metadata": {},
   "source": [
    "### Build model"
   ]
  },
  {
   "cell_type": "code",
   "execution_count": 32,
   "metadata": {},
   "outputs": [],
   "source": [
    "from tensorflow.keras.models import Sequential\n",
    "from tensorflow.keras.layers import Dense, LSTM"
   ]
  },
  {
   "cell_type": "code",
   "execution_count": 33,
   "metadata": {},
   "outputs": [],
   "source": [
    "n_features = 1\n",
    "#1 feature, rural pop number"
   ]
  },
  {
   "cell_type": "code",
   "execution_count": 34,
   "metadata": {},
   "outputs": [],
   "source": [
    "model = Sequential()\n",
    "\n",
    "model.add(LSTM(50, activation=\"relu\",\n",
    "               input_shape=(length, n_features)))\n",
    "\n",
    "model.add(Dense(1))\n",
    "model.compile(optimizer=\"adam\", loss=\"mse\")"
   ]
  },
  {
   "cell_type": "code",
   "execution_count": 35,
   "metadata": {},
   "outputs": [
    {
     "name": "stdout",
     "output_type": "stream",
     "text": [
      "Model: \"sequential\"\n",
      "_________________________________________________________________\n",
      "Layer (type)                 Output Shape              Param #   \n",
      "=================================================================\n",
      "lstm (LSTM)                  (None, 50)                10400     \n",
      "_________________________________________________________________\n",
      "dense (Dense)                (None, 1)                 51        \n",
      "=================================================================\n",
      "Total params: 10,451\n",
      "Trainable params: 10,451\n",
      "Non-trainable params: 0\n",
      "_________________________________________________________________\n"
     ]
    }
   ],
   "source": [
    "model.summary()"
   ]
  },
  {
   "cell_type": "code",
   "execution_count": 36,
   "metadata": {},
   "outputs": [],
   "source": [
    "from tensorflow.keras.callbacks import EarlyStopping"
   ]
  },
  {
   "cell_type": "code",
   "execution_count": 37,
   "metadata": {},
   "outputs": [],
   "source": [
    "early_stop = EarlyStopping(monitor=\"val_loss\", patience=2)"
   ]
  },
  {
   "cell_type": "code",
   "execution_count": 38,
   "metadata": {},
   "outputs": [
    {
     "name": "stdout",
     "output_type": "stream",
     "text": [
      "Epoch 1/20\n",
      "40/40 [==============================] - 1s 20ms/step - loss: 0.2095 - val_loss: 0.1857\n",
      "Epoch 2/20\n",
      "40/40 [==============================] - 0s 8ms/step - loss: 0.0332 - val_loss: 0.1643\n",
      "Epoch 3/20\n",
      "40/40 [==============================] - 0s 9ms/step - loss: 0.0297 - val_loss: 0.1979\n",
      "Epoch 4/20\n",
      "40/40 [==============================] - 0s 9ms/step - loss: 0.0290 - val_loss: 0.1887\n"
     ]
    },
    {
     "data": {
      "text/plain": [
       "<tensorflow.python.keras.callbacks.History at 0x2060d86b370>"
      ]
     },
     "execution_count": 38,
     "metadata": {},
     "output_type": "execute_result"
    }
   ],
   "source": [
    "model.fit(generator, validation_data=val_generator,\n",
    "         epochs=20, callbacks=[early_stop])"
   ]
  },
  {
   "cell_type": "markdown",
   "metadata": {},
   "source": [
    "### Initial forecast prediction"
   ]
  },
  {
   "cell_type": "code",
   "execution_count": 39,
   "metadata": {},
   "outputs": [
    {
     "data": {
      "text/plain": [
       "<matplotlib.axes._subplots.AxesSubplot at 0x2061048e550>"
      ]
     },
     "execution_count": 39,
     "metadata": {},
     "output_type": "execute_result"
    },
    {
     "data": {
      "image/png": "[encoded data removed]",
      "text/plain": [
       "<Figure size 432x288 with 1 Axes>"
      ]
     },
     "metadata": {},
     "output_type": "display_data"
    }
   ],
   "source": [
    "metrics = pd.DataFrame(model.history.history)\n",
    "metrics.plot()"
   ]
  },
  {
   "cell_type": "code",
   "execution_count": 40,
   "metadata": {},
   "outputs": [],
   "source": [
    "test_predictions = []\n",
    "\n",
    "first_eval_batch = scaled_r_train[-length:]\n",
    "current_batch = first_eval_batch.reshape((1,length,n_features))\n",
    "\n",
    "for i in range(len(r_test)):\n",
    "    current_pred = model.predict(current_batch)[0]\n",
    "    test_predictions.append(current_pred)\n",
    "    current_batch = np.append(current_batch[:,1:,:],\n",
    "                             [[current_pred]], axis=1)"
   ]
  },
  {
   "cell_type": "code",
   "execution_count": 41,
   "metadata": {},
   "outputs": [],
   "source": [
    "true_predictions = scaler.inverse_transform(test_predictions)"
   ]
  },
  {
   "cell_type": "code",
   "execution_count": 42,
   "metadata": {},
   "outputs": [],
   "source": [
    "r_test[\"Predictions\"] = true_predictions"
   ]
  },
  {
   "cell_type": "code",
   "execution_count": 43,
   "metadata": {},
   "outputs": [
    {
     "data": {
      "text/html": [
       "<div>\n",
       "<style scoped>\n",
       "    .dataframe tbody tr th:only-of-type {\n",
       "        vertical-align: middle;\n",
       "    }\n",
       "\n",
       "    .dataframe tbody tr th {\n",
       "        vertical-align: top;\n",
       "    }\n",
       "\n",
       "    .dataframe thead th {\n",
       "        text-align: right;\n",
       "    }\n",
       "</style>\n",
       "<table border=\"1\" class=\"dataframe\">\n",
       "  <thead>\n",
       "    <tr style=\"text-align: right;\">\n",
       "      <th></th>\n",
       "      <th>Rural population</th>\n",
       "      <th>Predictions</th>\n",
       "    </tr>\n",
       "  </thead>\n",
       "  <tbody>\n",
       "    <tr>\n",
       "      <th>2009</th>\n",
       "      <td>11813186</td>\n",
       "      <td>1.218960e+07</td>\n",
       "    </tr>\n",
       "    <tr>\n",
       "      <th>2010</th>\n",
       "      <td>11736055</td>\n",
       "      <td>1.217386e+07</td>\n",
       "    </tr>\n",
       "    <tr>\n",
       "      <th>2011</th>\n",
       "      <td>11658599</td>\n",
       "      <td>1.215968e+07</td>\n",
       "    </tr>\n",
       "    <tr>\n",
       "      <th>2012</th>\n",
       "      <td>11569870</td>\n",
       "      <td>1.215135e+07</td>\n",
       "    </tr>\n",
       "    <tr>\n",
       "      <th>2013</th>\n",
       "      <td>11477678</td>\n",
       "      <td>1.214804e+07</td>\n",
       "    </tr>\n",
       "    <tr>\n",
       "      <th>2014</th>\n",
       "      <td>11392615</td>\n",
       "      <td>1.214886e+07</td>\n",
       "    </tr>\n",
       "    <tr>\n",
       "      <th>2015</th>\n",
       "      <td>11313292</td>\n",
       "      <td>1.215296e+07</td>\n",
       "    </tr>\n",
       "    <tr>\n",
       "      <th>2016</th>\n",
       "      <td>11228768</td>\n",
       "      <td>1.216003e+07</td>\n",
       "    </tr>\n",
       "    <tr>\n",
       "      <th>2017</th>\n",
       "      <td>11135542</td>\n",
       "      <td>1.216977e+07</td>\n",
       "    </tr>\n",
       "    <tr>\n",
       "      <th>2018</th>\n",
       "      <td>11033746</td>\n",
       "      <td>1.218219e+07</td>\n",
       "    </tr>\n",
       "  </tbody>\n",
       "</table>\n",
       "</div>"
      ],
      "text/plain": [
       "      Rural population   Predictions\n",
       "2009          11813186  1.218960e+07\n",
       "2010          11736055  1.217386e+07\n",
       "2011          11658599  1.215968e+07\n",
       "2012          11569870  1.215135e+07\n",
       "2013          11477678  1.214804e+07\n",
       "2014          11392615  1.214886e+07\n",
       "2015          11313292  1.215296e+07\n",
       "2016          11228768  1.216003e+07\n",
       "2017          11135542  1.216977e+07\n",
       "2018          11033746  1.218219e+07"
      ]
     },
     "execution_count": 43,
     "metadata": {},
     "output_type": "execute_result"
    }
   ],
   "source": [
    "r_test"
   ]
  },
  {
   "cell_type": "code",
   "execution_count": 44,
   "metadata": {},
   "outputs": [
    {
     "data": {
      "text/plain": [
       "<matplotlib.axes._subplots.AxesSubplot at 0x2067fd7a520>"
      ]
     },
     "execution_count": 44,
     "metadata": {},
     "output_type": "execute_result"
    },
    {
     "data": {
      "image/png": "[encoded data removed]",
      "text/plain": [
       "<Figure size 720x432 with 1 Axes>"
      ]
     },
     "metadata": {},
     "output_type": "display_data"
    }
   ],
   "source": [
    "r_test.plot(figsize=(10,6))"
   ]
  },
  {
   "cell_type": "code",
   "execution_count": null,
   "metadata": {},
   "outputs": [],
   "source": []
  },
  {
   "cell_type": "code",
   "execution_count": null,
   "metadata": {},
   "outputs": [],
   "source": []
  },
  {
   "cell_type": "code",
   "execution_count": null,
   "metadata": {},
   "outputs": [],
   "source": []
  },
  {
   "cell_type": "markdown",
   "metadata": {},
   "source": [
    "## Population forecast (MULTIPLE FEATURES)"
   ]
  },
  {
   "cell_type": "code",
   "execution_count": 45,
   "metadata": {},
   "outputs": [
    {
     "data": {
      "text/html": [
       "<div>\n",
       "<style scoped>\n",
       "    .dataframe tbody tr th:only-of-type {\n",
       "        vertical-align: middle;\n",
       "    }\n",
       "\n",
       "    .dataframe tbody tr th {\n",
       "        vertical-align: top;\n",
       "    }\n",
       "\n",
       "    .dataframe thead th {\n",
       "        text-align: right;\n",
       "    }\n",
       "</style>\n",
       "<table border=\"1\" class=\"dataframe\">\n",
       "  <thead>\n",
       "    <tr style=\"text-align: right;\">\n",
       "      <th></th>\n",
       "      <th>Urban population</th>\n",
       "      <th>Rural population</th>\n",
       "      <th>Population, male</th>\n",
       "      <th>Population, female</th>\n",
       "      <th>Population, total</th>\n",
       "    </tr>\n",
       "  </thead>\n",
       "  <tbody>\n",
       "    <tr>\n",
       "      <th>1960</th>\n",
       "      <td>41104656</td>\n",
       "      <td>11295344</td>\n",
       "      <td>25305010</td>\n",
       "      <td>27094990</td>\n",
       "      <td>52400000</td>\n",
       "    </tr>\n",
       "    <tr>\n",
       "      <th>1961</th>\n",
       "      <td>41381472</td>\n",
       "      <td>11418528</td>\n",
       "      <td>25522300</td>\n",
       "      <td>27277700</td>\n",
       "      <td>52800000</td>\n",
       "    </tr>\n",
       "    <tr>\n",
       "      <th>1962</th>\n",
       "      <td>41661202</td>\n",
       "      <td>11588798</td>\n",
       "      <td>25765002</td>\n",
       "      <td>27484998</td>\n",
       "      <td>53250000</td>\n",
       "    </tr>\n",
       "    <tr>\n",
       "      <th>1963</th>\n",
       "      <td>41900114</td>\n",
       "      <td>11749886</td>\n",
       "      <td>25982724</td>\n",
       "      <td>27667276</td>\n",
       "      <td>53650000</td>\n",
       "    </tr>\n",
       "    <tr>\n",
       "      <th>1964</th>\n",
       "      <td>42098400</td>\n",
       "      <td>11901600</td>\n",
       "      <td>26172821</td>\n",
       "      <td>27827179</td>\n",
       "      <td>54000000</td>\n",
       "    </tr>\n",
       "  </tbody>\n",
       "</table>\n",
       "</div>"
      ],
      "text/plain": [
       "      Urban population  Rural population  Population, male  \\\n",
       "1960          41104656          11295344          25305010   \n",
       "1961          41381472          11418528          25522300   \n",
       "1962          41661202          11588798          25765002   \n",
       "1963          41900114          11749886          25982724   \n",
       "1964          42098400          11901600          26172821   \n",
       "\n",
       "      Population, female  Population, total  \n",
       "1960            27094990           52400000  \n",
       "1961            27277700           52800000  \n",
       "1962            27484998           53250000  \n",
       "1963            27667276           53650000  \n",
       "1964            27827179           54000000  "
      ]
     },
     "execution_count": 45,
     "metadata": {},
     "output_type": "execute_result"
    }
   ],
   "source": [
    "pop_df.head()"
   ]
  },
  {
   "cell_type": "code",
   "execution_count": 46,
   "metadata": {},
   "outputs": [
    {
     "data": {
      "text/plain": [
       "59"
      ]
     },
     "execution_count": 46,
     "metadata": {},
     "output_type": "execute_result"
    }
   ],
   "source": [
    "len(pop_df)"
   ]
  },
  {
   "cell_type": "code",
   "execution_count": 47,
   "metadata": {},
   "outputs": [
    {
     "data": {
      "text/plain": [
       "(59, 5)"
      ]
     },
     "execution_count": 47,
     "metadata": {},
     "output_type": "execute_result"
    }
   ],
   "source": [
    "pop_df.shape"
   ]
  },
  {
   "cell_type": "code",
   "execution_count": 48,
   "metadata": {},
   "outputs": [],
   "source": [
    "test_size = 10\n",
    "split_index = len(pop_df) - test_size"
   ]
  },
  {
   "cell_type": "code",
   "execution_count": 49,
   "metadata": {},
   "outputs": [],
   "source": [
    "train = pop_df[:split_index]\n",
    "test = pop_df[split_index:]"
   ]
  },
  {
   "cell_type": "code",
   "execution_count": 50,
   "metadata": {},
   "outputs": [],
   "source": [
    "from sklearn.preprocessing import MinMaxScaler"
   ]
  },
  {
   "cell_type": "code",
   "execution_count": 51,
   "metadata": {},
   "outputs": [],
   "source": [
    "scaler = MinMaxScaler()"
   ]
  },
  {
   "cell_type": "code",
   "execution_count": 52,
   "metadata": {},
   "outputs": [],
   "source": [
    "scaled_train = scaler.fit_transform(train)\n",
    "scaled_test = scaler.transform(test)"
   ]
  },
  {
   "cell_type": "markdown",
   "metadata": {},
   "source": [
    "### Generators"
   ]
  },
  {
   "cell_type": "code",
   "execution_count": 53,
   "metadata": {},
   "outputs": [],
   "source": [
    "from tensorflow.keras.preprocessing.sequence import TimeseriesGenerator"
   ]
  },
  {
   "cell_type": "code",
   "execution_count": 54,
   "metadata": {},
   "outputs": [],
   "source": [
    "length = 9"
   ]
  },
  {
   "cell_type": "code",
   "execution_count": 55,
   "metadata": {},
   "outputs": [],
   "source": [
    "generator = TimeseriesGenerator(scaled_train, scaled_train,\n",
    "                               length=length, batch_size=1)"
   ]
  },
  {
   "cell_type": "code",
   "execution_count": 56,
   "metadata": {},
   "outputs": [],
   "source": [
    "val_generator = TimeseriesGenerator(scaled_test, scaled_test,\n",
    "                                   length=length, batch_size=1)"
   ]
  },
  {
   "cell_type": "markdown",
   "metadata": {},
   "source": [
    "### Model"
   ]
  },
  {
   "cell_type": "code",
   "execution_count": 113,
   "metadata": {},
   "outputs": [],
   "source": [
    "from tensorflow.keras.models import Sequential\n",
    "from tensorflow.keras.layers import Dense, LSTM"
   ]
  },
  {
   "cell_type": "code",
   "execution_count": 114,
   "metadata": {},
   "outputs": [],
   "source": [
    "n_features = 5"
   ]
  },
  {
   "cell_type": "code",
   "execution_count": 115,
   "metadata": {},
   "outputs": [],
   "source": [
    "model = Sequential()\n",
    "\n",
    "model.add(LSTM(12, activation=\"relu\",\n",
    "              input_shape=(length, n_features)))\n",
    "\n",
    "model.add(Dense(5))\n",
    "model.compile(optimizer=\"adam\", loss=\"mse\")"
   ]
  },
  {
   "cell_type": "code",
   "execution_count": 116,
   "metadata": {},
   "outputs": [
    {
     "name": "stdout",
     "output_type": "stream",
     "text": [
      "Model: \"sequential_5\"\n",
      "_________________________________________________________________\n",
      "Layer (type)                 Output Shape              Param #   \n",
      "=================================================================\n",
      "lstm_5 (LSTM)                (None, 12)                864       \n",
      "_________________________________________________________________\n",
      "dense_5 (Dense)              (None, 5)                 65        \n",
      "=================================================================\n",
      "Total params: 929\n",
      "Trainable params: 929\n",
      "Non-trainable params: 0\n",
      "_________________________________________________________________\n"
     ]
    }
   ],
   "source": [
    "model.summary()"
   ]
  },
  {
   "cell_type": "code",
   "execution_count": 117,
   "metadata": {},
   "outputs": [],
   "source": [
    "from tensorflow.keras.callbacks import EarlyStopping"
   ]
  },
  {
   "cell_type": "code",
   "execution_count": 118,
   "metadata": {},
   "outputs": [],
   "source": [
    "early_stop = EarlyStopping(patience=5, monitor=\"val_loss\")"
   ]
  },
  {
   "cell_type": "code",
   "execution_count": 119,
   "metadata": {},
   "outputs": [
    {
     "name": "stdout",
     "output_type": "stream",
     "text": [
      "Epoch 1/50\n",
      "50/50 [==============================] - 1s 28ms/step - loss: 0.1838 - val_loss: 0.1898\n",
      "Epoch 2/50\n",
      "50/50 [==============================] - 0s 9ms/step - loss: 0.0634 - val_loss: 0.1997\n",
      "Epoch 3/50\n",
      "50/50 [==============================] - 1s 12ms/step - loss: 0.0343 - val_loss: 0.1088\n",
      "Epoch 4/50\n",
      "50/50 [==============================] - 0s 9ms/step - loss: 0.0184 - val_loss: 0.6551\n",
      "Epoch 5/50\n",
      "50/50 [==============================] - 0s 9ms/step - loss: 0.0104 - val_loss: 0.8817\n",
      "Epoch 6/50\n",
      "50/50 [==============================] - 0s 9ms/step - loss: 0.0082 - val_loss: 0.5738\n",
      "Epoch 7/50\n",
      "50/50 [==============================] - 0s 9ms/step - loss: 0.0076 - val_loss: 0.7306\n",
      "Epoch 8/50\n",
      "50/50 [==============================] - 0s 8ms/step - loss: 0.0064 - val_loss: 0.4369\n"
     ]
    },
    {
     "data": {
      "text/plain": [
       "<tensorflow.python.keras.callbacks.History at 0x2061aafb580>"
      ]
     },
     "execution_count": 119,
     "metadata": {},
     "output_type": "execute_result"
    }
   ],
   "source": [
    "model.fit(generator, validation_data=val_generator,\n",
    "         epochs=50, callbacks=[early_stop])"
   ]
  },
  {
   "cell_type": "markdown",
   "metadata": {},
   "source": [
    "### Predictions"
   ]
  },
  {
   "cell_type": "code",
   "execution_count": 120,
   "metadata": {},
   "outputs": [
    {
     "data": {
      "text/plain": [
       "<matplotlib.axes._subplots.AxesSubplot at 0x2061c57e4f0>"
      ]
     },
     "execution_count": 120,
     "metadata": {},
     "output_type": "execute_result"
    },
    {
     "data": {
      "image/png": "[encoded data removed]",
      "text/plain": [
       "<Figure size 432x288 with 1 Axes>"
      ]
     },
     "metadata": {},
     "output_type": "display_data"
    }
   ],
   "source": [
    "metrics = pd.DataFrame(model.history.history)\n",
    "metrics.plot()"
   ]
  },
  {
   "cell_type": "code",
   "execution_count": 121,
   "metadata": {},
   "outputs": [],
   "source": [
    "test_predictions = []\n",
    "\n",
    "first_batch = scaled_train[-length:]\n",
    "current_batch = first_batch.reshape((1,length,n_features))\n",
    "\n",
    "for i in range(len(test)):\n",
    "    current_pred = model.predict(current_batch)[0]\n",
    "    test_predictions.append(current_pred)\n",
    "    current_batch = np.append(current_batch[:,1:,:],\n",
    "                              [[current_pred]], axis=1)"
   ]
  },
  {
   "cell_type": "code",
   "execution_count": 122,
   "metadata": {},
   "outputs": [],
   "source": [
    "true_predictions = scaler.inverse_transform(test_predictions)"
   ]
  },
  {
   "cell_type": "code",
   "execution_count": 123,
   "metadata": {},
   "outputs": [
    {
     "name": "stderr",
     "output_type": "stream",
     "text": [
      "<ipython-input-123-aaac479c2365>:1: SettingWithCopyWarning: \n",
      "A value is trying to be set on a copy of a slice from a DataFrame.\n",
      "Try using .loc[row_indexer,col_indexer] = value instead\n",
      "\n",
      "See the caveats in the documentation: https://pandas.pydata.org/pandas-docs/stable/user_guide/indexing.html#returning-a-view-versus-a-copy\n",
      "  test[\"pUrb\"] = true_predictions[:,0]\n",
      "<ipython-input-123-aaac479c2365>:2: SettingWithCopyWarning: \n",
      "A value is trying to be set on a copy of a slice from a DataFrame.\n",
      "Try using .loc[row_indexer,col_indexer] = value instead\n",
      "\n",
      "See the caveats in the documentation: https://pandas.pydata.org/pandas-docs/stable/user_guide/indexing.html#returning-a-view-versus-a-copy\n",
      "  test[\"pRur\"] = true_predictions[:,1]\n",
      "<ipython-input-123-aaac479c2365>:3: SettingWithCopyWarning: \n",
      "A value is trying to be set on a copy of a slice from a DataFrame.\n",
      "Try using .loc[row_indexer,col_indexer] = value instead\n",
      "\n",
      "See the caveats in the documentation: https://pandas.pydata.org/pandas-docs/stable/user_guide/indexing.html#returning-a-view-versus-a-copy\n",
      "  test[\"pMale\"] = true_predictions[:,2]\n",
      "<ipython-input-123-aaac479c2365>:4: SettingWithCopyWarning: \n",
      "A value is trying to be set on a copy of a slice from a DataFrame.\n",
      "Try using .loc[row_indexer,col_indexer] = value instead\n",
      "\n",
      "See the caveats in the documentation: https://pandas.pydata.org/pandas-docs/stable/user_guide/indexing.html#returning-a-view-versus-a-copy\n",
      "  test[\"pFem\"] = true_predictions[:,3]\n",
      "<ipython-input-123-aaac479c2365>:5: SettingWithCopyWarning: \n",
      "A value is trying to be set on a copy of a slice from a DataFrame.\n",
      "Try using .loc[row_indexer,col_indexer] = value instead\n",
      "\n",
      "See the caveats in the documentation: https://pandas.pydata.org/pandas-docs/stable/user_guide/indexing.html#returning-a-view-versus-a-copy\n",
      "  test[\"pTot\"] = true_predictions[:,4]\n"
     ]
    }
   ],
   "source": [
    "test[\"pUrb\"] = true_predictions[:,0]\n",
    "test[\"pRur\"] = true_predictions[:,1]\n",
    "test[\"pMale\"] = true_predictions[:,2]\n",
    "test[\"pFem\"] = true_predictions[:,3]\n",
    "test[\"pTot\"] = true_predictions[:,4]\n",
    "#[\"pUrb\",\"pRur\",\"pMale\",\"pFem\",\"pTot\"]"
   ]
  },
  {
   "cell_type": "code",
   "execution_count": 124,
   "metadata": {},
   "outputs": [
    {
     "data": {
      "text/plain": [
       "<matplotlib.axes._subplots.AxesSubplot at 0x2061c6458b0>"
      ]
     },
     "execution_count": 124,
     "metadata": {},
     "output_type": "execute_result"
    },
    {
     "data": {
      "image/png": "[encoded data removed]",
      "text/plain": [
       "<Figure size 720x432 with 1 Axes>"
      ]
     },
     "metadata": {},
     "output_type": "display_data"
    }
   ],
   "source": [
    "test.plot(figsize=(10,6))"
   ]
  },
  {
   "cell_type": "code",
   "execution_count": 125,
   "metadata": {},
   "outputs": [
    {
     "data": {
      "text/plain": [
       "<matplotlib.axes._subplots.AxesSubplot at 0x2061c654430>"
      ]
     },
     "execution_count": 125,
     "metadata": {},
     "output_type": "execute_result"
    },
    {
     "data": {
      "image/png": "[encoded data removed]",
      "text/plain": [
       "<Figure size 720x432 with 1 Axes>"
      ]
     },
     "metadata": {},
     "output_type": "display_data"
    }
   ],
   "source": [
    "test[[\"Rural population\", \"pRur\"]].plot(figsize=(10,6))"
   ]
  },
  {
   "cell_type": "code",
   "execution_count": 126,
   "metadata": {},
   "outputs": [
    {
     "data": {
      "text/plain": [
       "<matplotlib.axes._subplots.AxesSubplot at 0x2061c7a7c70>"
      ]
     },
     "execution_count": 126,
     "metadata": {},
     "output_type": "execute_result"
    },
    {
     "data": {
      "image/png": "[encoded data removed]",
      "text/plain": [
       "<Figure size 720x432 with 1 Axes>"
      ]
     },
     "metadata": {},
     "output_type": "display_data"
    }
   ],
   "source": [
    "test[[\"Urban population\",\"pUrb\"]].plot(figsize=(10,6))"
   ]
  },
  {
   "cell_type": "code",
   "execution_count": null,
   "metadata": {},
   "outputs": [],
   "source": []
  },
  {
   "cell_type": "markdown",
   "metadata": {},
   "source": [
    "### Fullscale Forecast"
   ]
  },
  {
   "cell_type": "code",
   "execution_count": 127,
   "metadata": {},
   "outputs": [],
   "source": [
    "full_scaler = MinMaxScaler()"
   ]
  },
  {
   "cell_type": "code",
   "execution_count": 128,
   "metadata": {},
   "outputs": [],
   "source": [
    "full_scaled_df = full_scaler.fit_transform(pop_df)"
   ]
  },
  {
   "cell_type": "code",
   "execution_count": 129,
   "metadata": {},
   "outputs": [],
   "source": [
    "length = 9"
   ]
  },
  {
   "cell_type": "code",
   "execution_count": 130,
   "metadata": {},
   "outputs": [],
   "source": [
    "generator = TimeseriesGenerator(full_scaled_df, full_scaled_df,\n",
    "                               length=length, batch_size=1)"
   ]
  },
  {
   "cell_type": "code",
   "execution_count": 131,
   "metadata": {},
   "outputs": [],
   "source": [
    "full_model = Sequential()\n",
    "\n",
    "full_model.add(LSTM(12, activation=\"relu\",\n",
    "                   input_shape=(length, n_features)))\n",
    "\n",
    "full_model.add(Dense(5))\n",
    "full_model.compile(optimizer=\"adam\", loss=\"mse\")"
   ]
  },
  {
   "cell_type": "code",
   "execution_count": 132,
   "metadata": {},
   "outputs": [
    {
     "name": "stdout",
     "output_type": "stream",
     "text": [
      "Epoch 1/28\n",
      "50/50 [==============================] - 0s 7ms/step - loss: 0.2676\n",
      "Epoch 2/28\n",
      "50/50 [==============================] - 0s 7ms/step - loss: 0.1287\n",
      "Epoch 3/28\n",
      "50/50 [==============================] - 0s 6ms/step - loss: 0.0608\n",
      "Epoch 4/28\n",
      "50/50 [==============================] - 0s 7ms/step - loss: 0.0494\n",
      "Epoch 5/28\n",
      "50/50 [==============================] - 0s 7ms/step - loss: 0.0424\n",
      "Epoch 6/28\n",
      "50/50 [==============================] - 0s 6ms/step - loss: 0.0377\n",
      "Epoch 7/28\n",
      "50/50 [==============================] - 0s 7ms/step - loss: 0.0334\n",
      "Epoch 8/28\n",
      "50/50 [==============================] - 0s 7ms/step - loss: 0.0299\n",
      "Epoch 9/28\n",
      "50/50 [==============================] - 0s 7ms/step - loss: 0.0265\n",
      "Epoch 10/28\n",
      "50/50 [==============================] - 0s 7ms/step - loss: 0.0238\n",
      "Epoch 11/28\n",
      "50/50 [==============================] - 0s 7ms/step - loss: 0.0192\n",
      "Epoch 12/28\n",
      "50/50 [==============================] - 0s 7ms/step - loss: 0.0157\n",
      "Epoch 13/28\n",
      "50/50 [==============================] - 0s 7ms/step - loss: 0.0112\n",
      "Epoch 14/28\n",
      "50/50 [==============================] - 0s 7ms/step - loss: 0.0073\n",
      "Epoch 15/28\n",
      "50/50 [==============================] - 0s 7ms/step - loss: 0.0053\n",
      "Epoch 16/28\n",
      "50/50 [==============================] - 0s 7ms/step - loss: 0.0047\n",
      "Epoch 17/28\n",
      "50/50 [==============================] - 0s 7ms/step - loss: 0.0038\n",
      "Epoch 18/28\n",
      "50/50 [==============================] - 0s 7ms/step - loss: 0.0035\n",
      "Epoch 19/28\n",
      "50/50 [==============================] - 0s 7ms/step - loss: 0.0036\n",
      "Epoch 20/28\n",
      "50/50 [==============================] - 0s 6ms/step - loss: 0.0034\n",
      "Epoch 21/28\n",
      "50/50 [==============================] - 0s 7ms/step - loss: 0.0031\n",
      "Epoch 22/28\n",
      "50/50 [==============================] - 0s 6ms/step - loss: 0.0031\n",
      "Epoch 23/28\n",
      "50/50 [==============================] - 0s 7ms/step - loss: 0.0029\n",
      "Epoch 24/28\n",
      "50/50 [==============================] - 0s 9ms/step - loss: 0.0033\n",
      "Epoch 25/28\n",
      "50/50 [==============================] - 0s 9ms/step - loss: 0.0027A: 0s - loss: \n",
      "Epoch 26/28\n",
      "50/50 [==============================] - 0s 7ms/step - loss: 0.0029\n",
      "Epoch 27/28\n",
      "50/50 [==============================] - 0s 7ms/step - loss: 0.0027\n",
      "Epoch 28/28\n",
      "50/50 [==============================] - 0s 7ms/step - loss: 0.0025\n"
     ]
    },
    {
     "data": {
      "text/plain": [
       "<tensorflow.python.keras.callbacks.History at 0x2061c8064c0>"
      ]
     },
     "execution_count": 132,
     "metadata": {},
     "output_type": "execute_result"
    }
   ],
   "source": [
    "full_model.fit(generator, epochs=28)\n",
    "#epochs based on previous amount of epochs run"
   ]
  },
  {
   "cell_type": "code",
   "execution_count": 133,
   "metadata": {},
   "outputs": [],
   "source": [
    "# forecast"
   ]
  },
  {
   "cell_type": "code",
   "execution_count": 134,
   "metadata": {},
   "outputs": [],
   "source": [
    "forecast = []\n",
    "periods = 15 #how long to forecast into the future, 15 years\n",
    "\n",
    "first_eval = full_scaled_df[-length:]\n",
    "current_batch = first_eval.reshape((1,length,n_features))\n",
    "\n",
    "for i in range(periods):\n",
    "    current_pred = full_model.predict(current_batch)[0]\n",
    "    forecast.append(current_pred)\n",
    "    current_batch = np.append(current_batch[:,1:,:],\n",
    "                             [[current_pred]], axis=1)"
   ]
  },
  {
   "cell_type": "code",
   "execution_count": 135,
   "metadata": {},
   "outputs": [],
   "source": [
    "forecast = full_scaler.inverse_transform(forecast)"
   ]
  },
  {
   "cell_type": "code",
   "execution_count": 136,
   "metadata": {},
   "outputs": [],
   "source": [
    "forecast_index = np.arange(2019, (2019+periods))"
   ]
  },
  {
   "cell_type": "code",
   "execution_count": 137,
   "metadata": {},
   "outputs": [
    {
     "data": {
      "text/plain": [
       "array([2019, 2020, 2021, 2022, 2023, 2024, 2025, 2026, 2027, 2028, 2029,\n",
       "       2030, 2031, 2032, 2033])"
      ]
     },
     "execution_count": 137,
     "metadata": {},
     "output_type": "execute_result"
    }
   ],
   "source": [
    "forecast_index"
   ]
  },
  {
   "cell_type": "code",
   "execution_count": 138,
   "metadata": {},
   "outputs": [],
   "source": [
    "forecast_pop_df = pd.DataFrame(data=forecast, index=forecast_index,\n",
    "                              columns=[\"fUrb\",\"fRur\",\"fMale\",\"fFem\",\"fTot\"])"
   ]
  },
  {
   "cell_type": "code",
   "execution_count": 139,
   "metadata": {},
   "outputs": [
    {
     "data": {
      "text/html": [
       "<div>\n",
       "<style scoped>\n",
       "    .dataframe tbody tr th:only-of-type {\n",
       "        vertical-align: middle;\n",
       "    }\n",
       "\n",
       "    .dataframe tbody tr th {\n",
       "        vertical-align: top;\n",
       "    }\n",
       "\n",
       "    .dataframe thead th {\n",
       "        text-align: right;\n",
       "    }\n",
       "</style>\n",
       "<table border=\"1\" class=\"dataframe\">\n",
       "  <thead>\n",
       "    <tr style=\"text-align: right;\">\n",
       "      <th></th>\n",
       "      <th>fUrb</th>\n",
       "      <th>fRur</th>\n",
       "      <th>fMale</th>\n",
       "      <th>fFem</th>\n",
       "      <th>fTot</th>\n",
       "    </tr>\n",
       "  </thead>\n",
       "  <tbody>\n",
       "    <tr>\n",
       "      <th>2019</th>\n",
       "      <td>5.613302e+07</td>\n",
       "      <td>1.106939e+07</td>\n",
       "      <td>3.277220e+07</td>\n",
       "      <td>3.349698e+07</td>\n",
       "      <td>6.871246e+07</td>\n",
       "    </tr>\n",
       "    <tr>\n",
       "      <th>2020</th>\n",
       "      <td>5.669220e+07</td>\n",
       "      <td>1.106668e+07</td>\n",
       "      <td>3.304438e+07</td>\n",
       "      <td>3.368094e+07</td>\n",
       "      <td>6.920856e+07</td>\n",
       "    </tr>\n",
       "    <tr>\n",
       "      <th>2021</th>\n",
       "      <td>5.732566e+07</td>\n",
       "      <td>1.103755e+07</td>\n",
       "      <td>3.330422e+07</td>\n",
       "      <td>3.385188e+07</td>\n",
       "      <td>6.992119e+07</td>\n",
       "    </tr>\n",
       "    <tr>\n",
       "      <th>2022</th>\n",
       "      <td>5.802538e+07</td>\n",
       "      <td>1.100061e+07</td>\n",
       "      <td>3.358291e+07</td>\n",
       "      <td>3.403428e+07</td>\n",
       "      <td>7.073178e+07</td>\n",
       "    </tr>\n",
       "    <tr>\n",
       "      <th>2023</th>\n",
       "      <td>5.879782e+07</td>\n",
       "      <td>1.095539e+07</td>\n",
       "      <td>3.388104e+07</td>\n",
       "      <td>3.422705e+07</td>\n",
       "      <td>7.164915e+07</td>\n",
       "    </tr>\n",
       "    <tr>\n",
       "      <th>2024</th>\n",
       "      <td>5.964066e+07</td>\n",
       "      <td>1.090191e+07</td>\n",
       "      <td>3.419512e+07</td>\n",
       "      <td>3.442521e+07</td>\n",
       "      <td>7.266439e+07</td>\n",
       "    </tr>\n",
       "    <tr>\n",
       "      <th>2025</th>\n",
       "      <td>6.054887e+07</td>\n",
       "      <td>1.083947e+07</td>\n",
       "      <td>3.451873e+07</td>\n",
       "      <td>3.462157e+07</td>\n",
       "      <td>7.377152e+07</td>\n",
       "    </tr>\n",
       "    <tr>\n",
       "      <th>2026</th>\n",
       "      <td>6.152785e+07</td>\n",
       "      <td>1.076514e+07</td>\n",
       "      <td>3.484597e+07</td>\n",
       "      <td>3.480871e+07</td>\n",
       "      <td>7.498883e+07</td>\n",
       "    </tr>\n",
       "    <tr>\n",
       "      <th>2027</th>\n",
       "      <td>6.258511e+07</td>\n",
       "      <td>1.067517e+07</td>\n",
       "      <td>3.516958e+07</td>\n",
       "      <td>3.497717e+07</td>\n",
       "      <td>7.633871e+07</td>\n",
       "    </tr>\n",
       "    <tr>\n",
       "      <th>2028</th>\n",
       "      <td>6.371772e+07</td>\n",
       "      <td>1.056614e+07</td>\n",
       "      <td>3.547652e+07</td>\n",
       "      <td>3.511215e+07</td>\n",
       "      <td>7.782779e+07</td>\n",
       "    </tr>\n",
       "    <tr>\n",
       "      <th>2029</th>\n",
       "      <td>6.487471e+07</td>\n",
       "      <td>1.044623e+07</td>\n",
       "      <td>3.576269e+07</td>\n",
       "      <td>3.521783e+07</td>\n",
       "      <td>7.937104e+07</td>\n",
       "    </tr>\n",
       "    <tr>\n",
       "      <th>2030</th>\n",
       "      <td>6.598056e+07</td>\n",
       "      <td>1.031713e+07</td>\n",
       "      <td>3.598257e+07</td>\n",
       "      <td>3.525115e+07</td>\n",
       "      <td>8.086011e+07</td>\n",
       "    </tr>\n",
       "    <tr>\n",
       "      <th>2031</th>\n",
       "      <td>6.698906e+07</td>\n",
       "      <td>1.017857e+07</td>\n",
       "      <td>3.611313e+07</td>\n",
       "      <td>3.519782e+07</td>\n",
       "      <td>8.226793e+07</td>\n",
       "    </tr>\n",
       "    <tr>\n",
       "      <th>2032</th>\n",
       "      <td>6.782995e+07</td>\n",
       "      <td>1.003718e+07</td>\n",
       "      <td>3.613482e+07</td>\n",
       "      <td>3.504875e+07</td>\n",
       "      <td>8.350167e+07</td>\n",
       "    </tr>\n",
       "    <tr>\n",
       "      <th>2033</th>\n",
       "      <td>6.842306e+07</td>\n",
       "      <td>9.902217e+06</td>\n",
       "      <td>3.603182e+07</td>\n",
       "      <td>3.480184e+07</td>\n",
       "      <td>8.445389e+07</td>\n",
       "    </tr>\n",
       "  </tbody>\n",
       "</table>\n",
       "</div>"
      ],
      "text/plain": [
       "              fUrb          fRur         fMale          fFem          fTot\n",
       "2019  5.613302e+07  1.106939e+07  3.277220e+07  3.349698e+07  6.871246e+07\n",
       "2020  5.669220e+07  1.106668e+07  3.304438e+07  3.368094e+07  6.920856e+07\n",
       "2021  5.732566e+07  1.103755e+07  3.330422e+07  3.385188e+07  6.992119e+07\n",
       "2022  5.802538e+07  1.100061e+07  3.358291e+07  3.403428e+07  7.073178e+07\n",
       "2023  5.879782e+07  1.095539e+07  3.388104e+07  3.422705e+07  7.164915e+07\n",
       "2024  5.964066e+07  1.090191e+07  3.419512e+07  3.442521e+07  7.266439e+07\n",
       "2025  6.054887e+07  1.083947e+07  3.451873e+07  3.462157e+07  7.377152e+07\n",
       "2026  6.152785e+07  1.076514e+07  3.484597e+07  3.480871e+07  7.498883e+07\n",
       "2027  6.258511e+07  1.067517e+07  3.516958e+07  3.497717e+07  7.633871e+07\n",
       "2028  6.371772e+07  1.056614e+07  3.547652e+07  3.511215e+07  7.782779e+07\n",
       "2029  6.487471e+07  1.044623e+07  3.576269e+07  3.521783e+07  7.937104e+07\n",
       "2030  6.598056e+07  1.031713e+07  3.598257e+07  3.525115e+07  8.086011e+07\n",
       "2031  6.698906e+07  1.017857e+07  3.611313e+07  3.519782e+07  8.226793e+07\n",
       "2032  6.782995e+07  1.003718e+07  3.613482e+07  3.504875e+07  8.350167e+07\n",
       "2033  6.842306e+07  9.902217e+06  3.603182e+07  3.480184e+07  8.445389e+07"
      ]
     },
     "execution_count": 139,
     "metadata": {},
     "output_type": "execute_result"
    }
   ],
   "source": [
    "forecast_pop_df"
   ]
  },
  {
   "cell_type": "code",
   "execution_count": 140,
   "metadata": {},
   "outputs": [],
   "source": [
    "pop_df.index = pop_df.index.astype(int)"
   ]
  },
  {
   "cell_type": "code",
   "execution_count": 141,
   "metadata": {},
   "outputs": [
    {
     "data": {
      "text/plain": [
       "<matplotlib.axes._subplots.AxesSubplot at 0x2061f3eb130>"
      ]
     },
     "execution_count": 141,
     "metadata": {},
     "output_type": "execute_result"
    },
    {
     "data": {
      "image/png": "[encoded data removed]",
      "text/plain": [
       "<Figure size 720x432 with 1 Axes>"
      ]
     },
     "metadata": {},
     "output_type": "display_data"
    }
   ],
   "source": [
    "ax = pop_df.plot()\n",
    "forecast_pop_df.plot(ax=ax, figsize=(10,6))"
   ]
  },
  {
   "cell_type": "code",
   "execution_count": null,
   "metadata": {},
   "outputs": [],
   "source": []
  },
  {
   "cell_type": "code",
   "execution_count": null,
   "metadata": {},
   "outputs": [],
   "source": []
  },
  {
   "cell_type": "markdown",
   "metadata": {},
   "source": [
    "# Principal Component Analysis (PCA) on the whole retrieved dataset"
   ]
  },
  {
   "cell_type": "code",
   "execution_count": 198,
   "metadata": {},
   "outputs": [
    {
     "data": {
      "text/plain": [
       "0      Travel services (% of commercial service exports)\n",
       "1      Transport services (% of commercial service ex...\n",
       "2               Commercial service exports (current US$)\n",
       "3      Computer, communications and other services (%...\n",
       "4      Merchandise exports by the reporting economy (...\n",
       "                             ...                        \n",
       "510                    Arable land (hectares per person)\n",
       "511                               Arable land (hectares)\n",
       "512                   Agricultural land (% of land area)\n",
       "513                           Agricultural land (sq. km)\n",
       "514                     Agricultural machinery, tractors\n",
       "Name: Indicator Name, Length: 515, dtype: object"
      ]
     },
     "execution_count": 198,
     "metadata": {},
     "output_type": "execute_result"
    }
   ],
   "source": [
    "stats[\"Indicator Name\"]\n",
    "#a lot of different types of data"
   ]
  },
  {
   "cell_type": "code",
   "execution_count": 199,
   "metadata": {},
   "outputs": [
    {
     "data": {
      "text/plain": [
       "Country Name        0\n",
       "Country Code        0\n",
       "Indicator Name      0\n",
       "Indicator Code      0\n",
       "1960              319\n",
       "                 ... \n",
       "2015               58\n",
       "2016               76\n",
       "2017               89\n",
       "2018              145\n",
       "2019              496\n",
       "Length: 64, dtype: int64"
      ]
     },
     "execution_count": 199,
     "metadata": {},
     "output_type": "execute_result"
    }
   ],
   "source": [
    "stats.isnull().sum()"
   ]
  },
  {
   "cell_type": "code",
   "execution_count": 200,
   "metadata": {},
   "outputs": [],
   "source": [
    "stats.drop([\"1960\", \"1961\", \"1962\", \"1963\",\n",
    "           \"1964\", \"1965\", \"1966\", \"1967\",\n",
    "           \"1968\", \"1969\", \"1970\", \"1971\",\n",
    "           \"2016\", \"2017\", \"2018\", \"2019\"], axis=1, inplace=True)\n",
    "#dropping the year columns which have too many nulls"
   ]
  },
  {
   "cell_type": "code",
   "execution_count": 201,
   "metadata": {},
   "outputs": [
    {
     "data": {
      "text/plain": [
       "Country Name       0\n",
       "Country Code       0\n",
       "Indicator Name     0\n",
       "Indicator Code     0\n",
       "1972              17\n",
       "1973              16\n",
       "1974              18\n",
       "1975              13\n",
       "1976              14\n",
       "1977              13\n",
       "1978              14\n",
       "1979              14\n",
       "1980              16\n",
       "1981              11\n",
       "1982              14\n",
       "1983              14\n",
       "1984              14\n",
       "1985              16\n",
       "1986              15\n",
       "1987              13\n",
       "1988              19\n",
       "1989              28\n",
       "1990              24\n",
       "1991              17\n",
       "1992              20\n",
       "1993              43\n",
       "1994              43\n",
       "1995              42\n",
       "1996              43\n",
       "1997              46\n",
       "1998              26\n",
       "1999              23\n",
       "2000              22\n",
       "2001              25\n",
       "2002              16\n",
       "2003              25\n",
       "2004              17\n",
       "2005              24\n",
       "2006              15\n",
       "2007              14\n",
       "2008              15\n",
       "2009              22\n",
       "2010              21\n",
       "2011              20\n",
       "2012              23\n",
       "2013              24\n",
       "2014              34\n",
       "2015              58\n",
       "dtype: int64"
      ]
     },
     "execution_count": 201,
     "metadata": {},
     "output_type": "execute_result"
    }
   ],
   "source": [
    "stats.isnull().sum()"
   ]
  },
  {
   "cell_type": "code",
   "execution_count": 205,
   "metadata": {},
   "outputs": [],
   "source": [
    "clean_stats = stats.dropna()\n",
    "#cleaning the rest of the null values,\n",
    "#without losing too much data"
   ]
  },
  {
   "cell_type": "code",
   "execution_count": 210,
   "metadata": {},
   "outputs": [
    {
     "name": "stderr",
     "output_type": "stream",
     "text": [
      "C:\\Users\\techn\\anaconda3\\envs\\tensorenv\\lib\\site-packages\\pandas\\core\\frame.py:3990: SettingWithCopyWarning: \n",
      "A value is trying to be set on a copy of a slice from a DataFrame\n",
      "\n",
      "See the caveats in the documentation: https://pandas.pydata.org/pandas-docs/stable/user_guide/indexing.html#returning-a-view-versus-a-copy\n",
      "  return super().drop(\n"
     ]
    }
   ],
   "source": [
    "clean_stats.drop([\"Country Name\", \"Country Code\", \"Indicator Name\",\n",
    "                 \"Indicator Code\"], axis=1, inplace=True)\n",
    "#dropping the string columns"
   ]
  },
  {
   "cell_type": "code",
   "execution_count": 211,
   "metadata": {},
   "outputs": [
    {
     "name": "stdout",
     "output_type": "stream",
     "text": [
      "<class 'pandas.core.frame.DataFrame'>\n",
      "Int64Index: 418 entries, 0 to 513\n",
      "Data columns (total 44 columns):\n",
      " #   Column  Non-Null Count  Dtype  \n",
      "---  ------  --------------  -----  \n",
      " 0   1972    418 non-null    float64\n",
      " 1   1973    418 non-null    float64\n",
      " 2   1974    418 non-null    float64\n",
      " 3   1975    418 non-null    float64\n",
      " 4   1976    418 non-null    float64\n",
      " 5   1977    418 non-null    float64\n",
      " 6   1978    418 non-null    float64\n",
      " 7   1979    418 non-null    float64\n",
      " 8   1980    418 non-null    float64\n",
      " 9   1981    418 non-null    float64\n",
      " 10  1982    418 non-null    float64\n",
      " 11  1983    418 non-null    float64\n",
      " 12  1984    418 non-null    float64\n",
      " 13  1985    418 non-null    float64\n",
      " 14  1986    418 non-null    float64\n",
      " 15  1987    418 non-null    float64\n",
      " 16  1988    418 non-null    float64\n",
      " 17  1989    418 non-null    float64\n",
      " 18  1990    418 non-null    float64\n",
      " 19  1991    418 non-null    float64\n",
      " 20  1992    418 non-null    float64\n",
      " 21  1993    418 non-null    float64\n",
      " 22  1994    418 non-null    float64\n",
      " 23  1995    418 non-null    float64\n",
      " 24  1996    418 non-null    float64\n",
      " 25  1997    418 non-null    float64\n",
      " 26  1998    418 non-null    float64\n",
      " 27  1999    418 non-null    float64\n",
      " 28  2000    418 non-null    float64\n",
      " 29  2001    418 non-null    float64\n",
      " 30  2002    418 non-null    float64\n",
      " 31  2003    418 non-null    float64\n",
      " 32  2004    418 non-null    float64\n",
      " 33  2005    418 non-null    float64\n",
      " 34  2006    418 non-null    float64\n",
      " 35  2007    418 non-null    float64\n",
      " 36  2008    418 non-null    float64\n",
      " 37  2009    418 non-null    float64\n",
      " 38  2010    418 non-null    float64\n",
      " 39  2011    418 non-null    float64\n",
      " 40  2012    418 non-null    float64\n",
      " 41  2013    418 non-null    float64\n",
      " 42  2014    418 non-null    float64\n",
      " 43  2015    418 non-null    float64\n",
      "dtypes: float64(44)\n",
      "memory usage: 147.0 KB\n"
     ]
    }
   ],
   "source": [
    "clean_stats.info()"
   ]
  },
  {
   "cell_type": "code",
   "execution_count": 286,
   "metadata": {},
   "outputs": [],
   "source": [
    "clean_stats = clean_stats.transpose()\n",
    "#years should be the rows, features should be the columns"
   ]
  },
  {
   "cell_type": "code",
   "execution_count": 288,
   "metadata": {},
   "outputs": [
    {
     "data": {
      "text/html": [
       "<div>\n",
       "<style scoped>\n",
       "    .dataframe tbody tr th:only-of-type {\n",
       "        vertical-align: middle;\n",
       "    }\n",
       "\n",
       "    .dataframe tbody tr th {\n",
       "        vertical-align: top;\n",
       "    }\n",
       "\n",
       "    .dataframe thead th {\n",
       "        text-align: right;\n",
       "    }\n",
       "</style>\n",
       "<table border=\"1\" class=\"dataframe\">\n",
       "  <thead>\n",
       "    <tr style=\"text-align: right;\">\n",
       "      <th></th>\n",
       "      <th>0</th>\n",
       "      <th>1</th>\n",
       "      <th>2</th>\n",
       "      <th>3</th>\n",
       "      <th>4</th>\n",
       "      <th>5</th>\n",
       "      <th>6</th>\n",
       "      <th>7</th>\n",
       "      <th>8</th>\n",
       "      <th>9</th>\n",
       "      <th>...</th>\n",
       "      <th>503</th>\n",
       "      <th>504</th>\n",
       "      <th>506</th>\n",
       "      <th>507</th>\n",
       "      <th>508</th>\n",
       "      <th>509</th>\n",
       "      <th>510</th>\n",
       "      <th>511</th>\n",
       "      <th>512</th>\n",
       "      <th>513</th>\n",
       "    </tr>\n",
       "  </thead>\n",
       "  <tbody>\n",
       "    <tr>\n",
       "      <th>1972</th>\n",
       "      <td>14.420118</td>\n",
       "      <td>50.960505</td>\n",
       "      <td>9.925695e+09</td>\n",
       "      <td>34.619378</td>\n",
       "      <td>2.474260e+10</td>\n",
       "      <td>7.976122</td>\n",
       "      <td>7.715034</td>\n",
       "      <td>1.933507</td>\n",
       "      <td>3.221569</td>\n",
       "      <td>3.677463</td>\n",
       "      <td>...</td>\n",
       "      <td>74.73</td>\n",
       "      <td>15533794.0</td>\n",
       "      <td>241930.0</td>\n",
       "      <td>0.376142</td>\n",
       "      <td>3804376.0</td>\n",
       "      <td>29.467201</td>\n",
       "      <td>0.127108</td>\n",
       "      <td>7129000.0</td>\n",
       "      <td>77.526557</td>\n",
       "      <td>187560.0</td>\n",
       "    </tr>\n",
       "    <tr>\n",
       "      <th>1973</th>\n",
       "      <td>14.876754</td>\n",
       "      <td>52.022847</td>\n",
       "      <td>1.199966e+10</td>\n",
       "      <td>33.100399</td>\n",
       "      <td>3.102000e+10</td>\n",
       "      <td>8.776918</td>\n",
       "      <td>6.901999</td>\n",
       "      <td>1.573179</td>\n",
       "      <td>3.284977</td>\n",
       "      <td>3.077047</td>\n",
       "      <td>...</td>\n",
       "      <td>78.40</td>\n",
       "      <td>15316018.0</td>\n",
       "      <td>241930.0</td>\n",
       "      <td>0.367875</td>\n",
       "      <td>3756082.0</td>\n",
       "      <td>29.243996</td>\n",
       "      <td>0.125902</td>\n",
       "      <td>7075000.0</td>\n",
       "      <td>77.278552</td>\n",
       "      <td>186960.0</td>\n",
       "    </tr>\n",
       "    <tr>\n",
       "      <th>1974</th>\n",
       "      <td>14.371403</td>\n",
       "      <td>52.920235</td>\n",
       "      <td>1.465354e+10</td>\n",
       "      <td>32.708362</td>\n",
       "      <td>3.938720e+10</td>\n",
       "      <td>8.880042</td>\n",
       "      <td>7.182029</td>\n",
       "      <td>1.189727</td>\n",
       "      <td>3.878163</td>\n",
       "      <td>3.032457</td>\n",
       "      <td>...</td>\n",
       "      <td>79.97</td>\n",
       "      <td>16394537.0</td>\n",
       "      <td>241930.0</td>\n",
       "      <td>0.359608</td>\n",
       "      <td>3752402.0</td>\n",
       "      <td>29.210929</td>\n",
       "      <td>0.125680</td>\n",
       "      <td>7067000.0</td>\n",
       "      <td>77.038813</td>\n",
       "      <td>186380.0</td>\n",
       "    </tr>\n",
       "    <tr>\n",
       "      <th>1975</th>\n",
       "      <td>16.683617</td>\n",
       "      <td>47.882974</td>\n",
       "      <td>1.600205e+10</td>\n",
       "      <td>35.433409</td>\n",
       "      <td>4.453600e+10</td>\n",
       "      <td>8.311478</td>\n",
       "      <td>8.750898</td>\n",
       "      <td>1.389887</td>\n",
       "      <td>5.652057</td>\n",
       "      <td>3.620666</td>\n",
       "      <td>...</td>\n",
       "      <td>64.63</td>\n",
       "      <td>13936000.0</td>\n",
       "      <td>241930.0</td>\n",
       "      <td>0.351341</td>\n",
       "      <td>3655432.0</td>\n",
       "      <td>28.392510</td>\n",
       "      <td>0.122168</td>\n",
       "      <td>6869000.0</td>\n",
       "      <td>76.811474</td>\n",
       "      <td>185830.0</td>\n",
       "    </tr>\n",
       "    <tr>\n",
       "      <th>1976</th>\n",
       "      <td>18.547558</td>\n",
       "      <td>45.706262</td>\n",
       "      <td>1.692450e+10</td>\n",
       "      <td>35.746180</td>\n",
       "      <td>4.548080e+10</td>\n",
       "      <td>7.251851</td>\n",
       "      <td>8.111995</td>\n",
       "      <td>1.416862</td>\n",
       "      <td>5.120622</td>\n",
       "      <td>3.218061</td>\n",
       "      <td>...</td>\n",
       "      <td>62.53</td>\n",
       "      <td>13263000.0</td>\n",
       "      <td>241930.0</td>\n",
       "      <td>0.334808</td>\n",
       "      <td>3685000.0</td>\n",
       "      <td>28.495846</td>\n",
       "      <td>0.122643</td>\n",
       "      <td>6894000.0</td>\n",
       "      <td>76.749473</td>\n",
       "      <td>185680.0</td>\n",
       "    </tr>\n",
       "  </tbody>\n",
       "</table>\n",
       "<p>5 rows × 418 columns</p>\n",
       "</div>"
      ],
      "text/plain": [
       "            0          1             2          3             4         5    \\\n",
       "1972  14.420118  50.960505  9.925695e+09  34.619378  2.474260e+10  7.976122   \n",
       "1973  14.876754  52.022847  1.199966e+10  33.100399  3.102000e+10  8.776918   \n",
       "1974  14.371403  52.920235  1.465354e+10  32.708362  3.938720e+10  8.880042   \n",
       "1975  16.683617  47.882974  1.600205e+10  35.433409  4.453600e+10  8.311478   \n",
       "1976  18.547558  45.706262  1.692450e+10  35.746180  4.548080e+10  7.251851   \n",
       "\n",
       "           6         7         8         9    ...    503         504  \\\n",
       "1972  7.715034  1.933507  3.221569  3.677463  ...  74.73  15533794.0   \n",
       "1973  6.901999  1.573179  3.284977  3.077047  ...  78.40  15316018.0   \n",
       "1974  7.182029  1.189727  3.878163  3.032457  ...  79.97  16394537.0   \n",
       "1975  8.750898  1.389887  5.652057  3.620666  ...  64.63  13936000.0   \n",
       "1976  8.111995  1.416862  5.120622  3.218061  ...  62.53  13263000.0   \n",
       "\n",
       "           506       507        508        509       510        511  \\\n",
       "1972  241930.0  0.376142  3804376.0  29.467201  0.127108  7129000.0   \n",
       "1973  241930.0  0.367875  3756082.0  29.243996  0.125902  7075000.0   \n",
       "1974  241930.0  0.359608  3752402.0  29.210929  0.125680  7067000.0   \n",
       "1975  241930.0  0.351341  3655432.0  28.392510  0.122168  6869000.0   \n",
       "1976  241930.0  0.334808  3685000.0  28.495846  0.122643  6894000.0   \n",
       "\n",
       "            512       513  \n",
       "1972  77.526557  187560.0  \n",
       "1973  77.278552  186960.0  \n",
       "1974  77.038813  186380.0  \n",
       "1975  76.811474  185830.0  \n",
       "1976  76.749473  185680.0  \n",
       "\n",
       "[5 rows x 418 columns]"
      ]
     },
     "execution_count": 288,
     "metadata": {},
     "output_type": "execute_result"
    }
   ],
   "source": [
    "clean_stats.head()"
   ]
  },
  {
   "cell_type": "code",
   "execution_count": 289,
   "metadata": {},
   "outputs": [],
   "source": [
    "from sklearn.preprocessing import MinMaxScaler"
   ]
  },
  {
   "cell_type": "code",
   "execution_count": 290,
   "metadata": {},
   "outputs": [],
   "source": [
    "pca_scaler = MinMaxScaler()\n",
    "scaled_stats = pca_scaler.fit_transform(clean_stats)"
   ]
  },
  {
   "cell_type": "code",
   "execution_count": 291,
   "metadata": {},
   "outputs": [],
   "source": [
    "from sklearn.decomposition import PCA"
   ]
  },
  {
   "cell_type": "code",
   "execution_count": 300,
   "metadata": {},
   "outputs": [
    {
     "data": {
      "text/plain": [
       "4.521620096852551"
      ]
     },
     "execution_count": 300,
     "metadata": {},
     "output_type": "execute_result"
    }
   ],
   "source": [
    "np.sqrt(np.sqrt(len(clean_stats.columns)))\n",
    "#get sqrt of number of unique features"
   ]
  },
  {
   "cell_type": "code",
   "execution_count": 301,
   "metadata": {},
   "outputs": [],
   "source": [
    "pca = PCA(n_components=5)\n",
    "#try to reduce dataset's dimensionality to sqrt of sqrt of features"
   ]
  },
  {
   "cell_type": "code",
   "execution_count": 302,
   "metadata": {},
   "outputs": [
    {
     "data": {
      "text/plain": [
       "PCA(n_components=5)"
      ]
     },
     "execution_count": 302,
     "metadata": {},
     "output_type": "execute_result"
    }
   ],
   "source": [
    "pca.fit(scaled_stats)"
   ]
  },
  {
   "cell_type": "code",
   "execution_count": 303,
   "metadata": {},
   "outputs": [],
   "source": [
    "reduced_stats = pca.transform(scaled_stats)"
   ]
  },
  {
   "cell_type": "code",
   "execution_count": 304,
   "metadata": {},
   "outputs": [
    {
     "data": {
      "text/plain": [
       "(44, 418)"
      ]
     },
     "execution_count": 304,
     "metadata": {},
     "output_type": "execute_result"
    }
   ],
   "source": [
    "scaled_stats.shape"
   ]
  },
  {
   "cell_type": "code",
   "execution_count": 306,
   "metadata": {},
   "outputs": [
    {
     "data": {
      "text/plain": [
       "(44, 5)"
      ]
     },
     "execution_count": 306,
     "metadata": {},
     "output_type": "execute_result"
    }
   ],
   "source": [
    "reduced_stats.shape\n",
    "#features now reduced to 5, from 418"
   ]
  },
  {
   "cell_type": "code",
   "execution_count": 336,
   "metadata": {},
   "outputs": [
    {
     "data": {
      "text/html": [
       "<div>\n",
       "<style scoped>\n",
       "    .dataframe tbody tr th:only-of-type {\n",
       "        vertical-align: middle;\n",
       "    }\n",
       "\n",
       "    .dataframe tbody tr th {\n",
       "        vertical-align: top;\n",
       "    }\n",
       "\n",
       "    .dataframe thead th {\n",
       "        text-align: right;\n",
       "    }\n",
       "</style>\n",
       "<table border=\"1\" class=\"dataframe\">\n",
       "  <thead>\n",
       "    <tr style=\"text-align: right;\">\n",
       "      <th></th>\n",
       "      <th>0</th>\n",
       "      <th>1</th>\n",
       "      <th>2</th>\n",
       "      <th>3</th>\n",
       "      <th>4</th>\n",
       "    </tr>\n",
       "  </thead>\n",
       "  <tbody>\n",
       "    <tr>\n",
       "      <th>1972</th>\n",
       "      <td>-6.746473</td>\n",
       "      <td>2.689195</td>\n",
       "      <td>2.621690</td>\n",
       "      <td>0.635146</td>\n",
       "      <td>1.144329</td>\n",
       "    </tr>\n",
       "    <tr>\n",
       "      <th>1973</th>\n",
       "      <td>-6.637954</td>\n",
       "      <td>2.627177</td>\n",
       "      <td>2.650129</td>\n",
       "      <td>0.701955</td>\n",
       "      <td>0.921056</td>\n",
       "    </tr>\n",
       "    <tr>\n",
       "      <th>1974</th>\n",
       "      <td>-6.495203</td>\n",
       "      <td>3.365117</td>\n",
       "      <td>1.595949</td>\n",
       "      <td>0.280744</td>\n",
       "      <td>0.807841</td>\n",
       "    </tr>\n",
       "    <tr>\n",
       "      <th>1975</th>\n",
       "      <td>-6.363014</td>\n",
       "      <td>3.150937</td>\n",
       "      <td>1.137748</td>\n",
       "      <td>0.136286</td>\n",
       "      <td>0.255396</td>\n",
       "    </tr>\n",
       "    <tr>\n",
       "      <th>1976</th>\n",
       "      <td>-6.231536</td>\n",
       "      <td>2.713838</td>\n",
       "      <td>0.826495</td>\n",
       "      <td>0.009166</td>\n",
       "      <td>-0.311233</td>\n",
       "    </tr>\n",
       "    <tr>\n",
       "      <th>1977</th>\n",
       "      <td>-5.982131</td>\n",
       "      <td>2.253914</td>\n",
       "      <td>0.186880</td>\n",
       "      <td>-0.147572</td>\n",
       "      <td>-0.889161</td>\n",
       "    </tr>\n",
       "    <tr>\n",
       "      <th>1978</th>\n",
       "      <td>-5.699110</td>\n",
       "      <td>1.443172</td>\n",
       "      <td>0.177226</td>\n",
       "      <td>-0.200875</td>\n",
       "      <td>-1.009498</td>\n",
       "    </tr>\n",
       "    <tr>\n",
       "      <th>1979</th>\n",
       "      <td>-5.265027</td>\n",
       "      <td>1.022169</td>\n",
       "      <td>-0.423807</td>\n",
       "      <td>-0.751415</td>\n",
       "      <td>-0.861083</td>\n",
       "    </tr>\n",
       "    <tr>\n",
       "      <th>1980</th>\n",
       "      <td>-4.993458</td>\n",
       "      <td>0.973720</td>\n",
       "      <td>-1.411706</td>\n",
       "      <td>-1.152363</td>\n",
       "      <td>-0.785570</td>\n",
       "    </tr>\n",
       "    <tr>\n",
       "      <th>1981</th>\n",
       "      <td>-4.780893</td>\n",
       "      <td>0.330644</td>\n",
       "      <td>-2.041812</td>\n",
       "      <td>-1.217977</td>\n",
       "      <td>-0.998764</td>\n",
       "    </tr>\n",
       "    <tr>\n",
       "      <th>1982</th>\n",
       "      <td>-4.469777</td>\n",
       "      <td>-0.236670</td>\n",
       "      <td>-2.057433</td>\n",
       "      <td>-0.986499</td>\n",
       "      <td>-0.876208</td>\n",
       "    </tr>\n",
       "    <tr>\n",
       "      <th>1983</th>\n",
       "      <td>-4.190753</td>\n",
       "      <td>-0.796287</td>\n",
       "      <td>-2.209917</td>\n",
       "      <td>-1.091426</td>\n",
       "      <td>-0.676738</td>\n",
       "    </tr>\n",
       "    <tr>\n",
       "      <th>1984</th>\n",
       "      <td>-3.863791</td>\n",
       "      <td>-0.995516</td>\n",
       "      <td>-2.363144</td>\n",
       "      <td>-1.058386</td>\n",
       "      <td>-0.437371</td>\n",
       "    </tr>\n",
       "    <tr>\n",
       "      <th>1985</th>\n",
       "      <td>-3.673505</td>\n",
       "      <td>-1.257729</td>\n",
       "      <td>-2.342891</td>\n",
       "      <td>-0.902942</td>\n",
       "      <td>-0.346897</td>\n",
       "    </tr>\n",
       "    <tr>\n",
       "      <th>1986</th>\n",
       "      <td>-3.319072</td>\n",
       "      <td>-1.770937</td>\n",
       "      <td>-1.609250</td>\n",
       "      <td>-0.033722</td>\n",
       "      <td>0.643401</td>\n",
       "    </tr>\n",
       "    <tr>\n",
       "      <th>1987</th>\n",
       "      <td>-2.874967</td>\n",
       "      <td>-1.974962</td>\n",
       "      <td>-1.234850</td>\n",
       "      <td>0.347339</td>\n",
       "      <td>1.118842</td>\n",
       "    </tr>\n",
       "    <tr>\n",
       "      <th>1988</th>\n",
       "      <td>-2.395181</td>\n",
       "      <td>-2.072020</td>\n",
       "      <td>-0.571638</td>\n",
       "      <td>0.536375</td>\n",
       "      <td>1.625020</td>\n",
       "    </tr>\n",
       "    <tr>\n",
       "      <th>1989</th>\n",
       "      <td>-2.045639</td>\n",
       "      <td>-1.940446</td>\n",
       "      <td>-0.539162</td>\n",
       "      <td>0.608601</td>\n",
       "      <td>1.794599</td>\n",
       "    </tr>\n",
       "    <tr>\n",
       "      <th>1990</th>\n",
       "      <td>-1.487046</td>\n",
       "      <td>-1.905241</td>\n",
       "      <td>-0.571266</td>\n",
       "      <td>0.796033</td>\n",
       "      <td>1.689137</td>\n",
       "    </tr>\n",
       "    <tr>\n",
       "      <th>1991</th>\n",
       "      <td>-1.239623</td>\n",
       "      <td>-1.931232</td>\n",
       "      <td>-0.674248</td>\n",
       "      <td>1.148807</td>\n",
       "      <td>1.292504</td>\n",
       "    </tr>\n",
       "    <tr>\n",
       "      <th>1992</th>\n",
       "      <td>-0.910324</td>\n",
       "      <td>-2.054284</td>\n",
       "      <td>-0.513100</td>\n",
       "      <td>1.481037</td>\n",
       "      <td>0.822577</td>\n",
       "    </tr>\n",
       "    <tr>\n",
       "      <th>1993</th>\n",
       "      <td>-0.642463</td>\n",
       "      <td>-1.948461</td>\n",
       "      <td>0.039379</td>\n",
       "      <td>1.927784</td>\n",
       "      <td>-0.057240</td>\n",
       "    </tr>\n",
       "    <tr>\n",
       "      <th>1994</th>\n",
       "      <td>-0.314466</td>\n",
       "      <td>-1.982956</td>\n",
       "      <td>0.410197</td>\n",
       "      <td>1.777939</td>\n",
       "      <td>-0.520096</td>\n",
       "    </tr>\n",
       "    <tr>\n",
       "      <th>1995</th>\n",
       "      <td>0.195308</td>\n",
       "      <td>-2.026669</td>\n",
       "      <td>0.788868</td>\n",
       "      <td>1.558701</td>\n",
       "      <td>-0.817503</td>\n",
       "    </tr>\n",
       "    <tr>\n",
       "      <th>1996</th>\n",
       "      <td>0.579155</td>\n",
       "      <td>-1.977711</td>\n",
       "      <td>0.936677</td>\n",
       "      <td>1.297556</td>\n",
       "      <td>-0.995030</td>\n",
       "    </tr>\n",
       "    <tr>\n",
       "      <th>1997</th>\n",
       "      <td>0.791995</td>\n",
       "      <td>-2.041174</td>\n",
       "      <td>1.305006</td>\n",
       "      <td>1.034711</td>\n",
       "      <td>-1.172041</td>\n",
       "    </tr>\n",
       "    <tr>\n",
       "      <th>1998</th>\n",
       "      <td>1.267820</td>\n",
       "      <td>-2.110866</td>\n",
       "      <td>1.881936</td>\n",
       "      <td>0.428206</td>\n",
       "      <td>-1.024531</td>\n",
       "    </tr>\n",
       "    <tr>\n",
       "      <th>1999</th>\n",
       "      <td>1.880199</td>\n",
       "      <td>-2.118950</td>\n",
       "      <td>1.916831</td>\n",
       "      <td>-0.150779</td>\n",
       "      <td>-0.875002</td>\n",
       "    </tr>\n",
       "    <tr>\n",
       "      <th>2000</th>\n",
       "      <td>2.272466</td>\n",
       "      <td>-1.852005</td>\n",
       "      <td>1.681505</td>\n",
       "      <td>-0.920242</td>\n",
       "      <td>-0.927686</td>\n",
       "    </tr>\n",
       "    <tr>\n",
       "      <th>2001</th>\n",
       "      <td>2.547375</td>\n",
       "      <td>-1.477459</td>\n",
       "      <td>1.760666</td>\n",
       "      <td>-1.135647</td>\n",
       "      <td>-0.810975</td>\n",
       "    </tr>\n",
       "    <tr>\n",
       "      <th>2002</th>\n",
       "      <td>3.088554</td>\n",
       "      <td>-1.357050</td>\n",
       "      <td>1.670872</td>\n",
       "      <td>-1.299140</td>\n",
       "      <td>-0.567136</td>\n",
       "    </tr>\n",
       "    <tr>\n",
       "      <th>2003</th>\n",
       "      <td>3.677130</td>\n",
       "      <td>-1.007113</td>\n",
       "      <td>1.380719</td>\n",
       "      <td>-1.536072</td>\n",
       "      <td>-0.314691</td>\n",
       "    </tr>\n",
       "    <tr>\n",
       "      <th>2004</th>\n",
       "      <td>4.425771</td>\n",
       "      <td>-0.569858</td>\n",
       "      <td>1.192082</td>\n",
       "      <td>-1.641085</td>\n",
       "      <td>0.240491</td>\n",
       "    </tr>\n",
       "    <tr>\n",
       "      <th>2005</th>\n",
       "      <td>5.055760</td>\n",
       "      <td>-0.254607</td>\n",
       "      <td>1.094246</td>\n",
       "      <td>-1.821470</td>\n",
       "      <td>0.521189</td>\n",
       "    </tr>\n",
       "    <tr>\n",
       "      <th>2006</th>\n",
       "      <td>5.529569</td>\n",
       "      <td>0.147370</td>\n",
       "      <td>0.646374</td>\n",
       "      <td>-1.601806</td>\n",
       "      <td>0.914557</td>\n",
       "    </tr>\n",
       "    <tr>\n",
       "      <th>2007</th>\n",
       "      <td>6.060579</td>\n",
       "      <td>0.501872</td>\n",
       "      <td>0.602060</td>\n",
       "      <td>-1.675386</td>\n",
       "      <td>1.305961</td>\n",
       "    </tr>\n",
       "    <tr>\n",
       "      <th>2008</th>\n",
       "      <td>6.329083</td>\n",
       "      <td>1.209356</td>\n",
       "      <td>-0.341233</td>\n",
       "      <td>-1.450786</td>\n",
       "      <td>1.402330</td>\n",
       "    </tr>\n",
       "    <tr>\n",
       "      <th>2009</th>\n",
       "      <td>5.686193</td>\n",
       "      <td>1.661479</td>\n",
       "      <td>-1.201194</td>\n",
       "      <td>-0.052820</td>\n",
       "      <td>0.934069</td>\n",
       "    </tr>\n",
       "    <tr>\n",
       "      <th>2010</th>\n",
       "      <td>6.110415</td>\n",
       "      <td>1.750089</td>\n",
       "      <td>-0.893769</td>\n",
       "      <td>0.090131</td>\n",
       "      <td>0.424617</td>\n",
       "    </tr>\n",
       "    <tr>\n",
       "      <th>2011</th>\n",
       "      <td>6.349963</td>\n",
       "      <td>2.004861</td>\n",
       "      <td>-1.182142</td>\n",
       "      <td>0.300730</td>\n",
       "      <td>0.048000</td>\n",
       "    </tr>\n",
       "    <tr>\n",
       "      <th>2012</th>\n",
       "      <td>6.451535</td>\n",
       "      <td>2.337372</td>\n",
       "      <td>-1.173158</td>\n",
       "      <td>0.916837</td>\n",
       "      <td>-0.036925</td>\n",
       "    </tr>\n",
       "    <tr>\n",
       "      <th>2013</th>\n",
       "      <td>7.026128</td>\n",
       "      <td>2.474015</td>\n",
       "      <td>-1.357257</td>\n",
       "      <td>1.325983</td>\n",
       "      <td>-0.588330</td>\n",
       "    </tr>\n",
       "    <tr>\n",
       "      <th>2014</th>\n",
       "      <td>7.559178</td>\n",
       "      <td>2.568105</td>\n",
       "      <td>-1.040308</td>\n",
       "      <td>1.655116</td>\n",
       "      <td>-0.855912</td>\n",
       "    </tr>\n",
       "    <tr>\n",
       "      <th>2015</th>\n",
       "      <td>7.737232</td>\n",
       "      <td>2.435800</td>\n",
       "      <td>-0.750250</td>\n",
       "      <td>1.833225</td>\n",
       "      <td>-1.150296</td>\n",
       "    </tr>\n",
       "  </tbody>\n",
       "</table>\n",
       "</div>"
      ],
      "text/plain": [
       "             0         1         2         3         4\n",
       "1972 -6.746473  2.689195  2.621690  0.635146  1.144329\n",
       "1973 -6.637954  2.627177  2.650129  0.701955  0.921056\n",
       "1974 -6.495203  3.365117  1.595949  0.280744  0.807841\n",
       "1975 -6.363014  3.150937  1.137748  0.136286  0.255396\n",
       "1976 -6.231536  2.713838  0.826495  0.009166 -0.311233\n",
       "1977 -5.982131  2.253914  0.186880 -0.147572 -0.889161\n",
       "1978 -5.699110  1.443172  0.177226 -0.200875 -1.009498\n",
       "1979 -5.265027  1.022169 -0.423807 -0.751415 -0.861083\n",
       "1980 -4.993458  0.973720 -1.411706 -1.152363 -0.785570\n",
       "1981 -4.780893  0.330644 -2.041812 -1.217977 -0.998764\n",
       "1982 -4.469777 -0.236670 -2.057433 -0.986499 -0.876208\n",
       "1983 -4.190753 -0.796287 -2.209917 -1.091426 -0.676738\n",
       "1984 -3.863791 -0.995516 -2.363144 -1.058386 -0.437371\n",
       "1985 -3.673505 -1.257729 -2.342891 -0.902942 -0.346897\n",
       "1986 -3.319072 -1.770937 -1.609250 -0.033722  0.643401\n",
       "1987 -2.874967 -1.974962 -1.234850  0.347339  1.118842\n",
       "1988 -2.395181 -2.072020 -0.571638  0.536375  1.625020\n",
       "1989 -2.045639 -1.940446 -0.539162  0.608601  1.794599\n",
       "1990 -1.487046 -1.905241 -0.571266  0.796033  1.689137\n",
       "1991 -1.239623 -1.931232 -0.674248  1.148807  1.292504\n",
       "1992 -0.910324 -2.054284 -0.513100  1.481037  0.822577\n",
       "1993 -0.642463 -1.948461  0.039379  1.927784 -0.057240\n",
       "1994 -0.314466 -1.982956  0.410197  1.777939 -0.520096\n",
       "1995  0.195308 -2.026669  0.788868  1.558701 -0.817503\n",
       "1996  0.579155 -1.977711  0.936677  1.297556 -0.995030\n",
       "1997  0.791995 -2.041174  1.305006  1.034711 -1.172041\n",
       "1998  1.267820 -2.110866  1.881936  0.428206 -1.024531\n",
       "1999  1.880199 -2.118950  1.916831 -0.150779 -0.875002\n",
       "2000  2.272466 -1.852005  1.681505 -0.920242 -0.927686\n",
       "2001  2.547375 -1.477459  1.760666 -1.135647 -0.810975\n",
       "2002  3.088554 -1.357050  1.670872 -1.299140 -0.567136\n",
       "2003  3.677130 -1.007113  1.380719 -1.536072 -0.314691\n",
       "2004  4.425771 -0.569858  1.192082 -1.641085  0.240491\n",
       "2005  5.055760 -0.254607  1.094246 -1.821470  0.521189\n",
       "2006  5.529569  0.147370  0.646374 -1.601806  0.914557\n",
       "2007  6.060579  0.501872  0.602060 -1.675386  1.305961\n",
       "2008  6.329083  1.209356 -0.341233 -1.450786  1.402330\n",
       "2009  5.686193  1.661479 -1.201194 -0.052820  0.934069\n",
       "2010  6.110415  1.750089 -0.893769  0.090131  0.424617\n",
       "2011  6.349963  2.004861 -1.182142  0.300730  0.048000\n",
       "2012  6.451535  2.337372 -1.173158  0.916837 -0.036925\n",
       "2013  7.026128  2.474015 -1.357257  1.325983 -0.588330\n",
       "2014  7.559178  2.568105 -1.040308  1.655116 -0.855912\n",
       "2015  7.737232  2.435800 -0.750250  1.833225 -1.150296"
      ]
     },
     "execution_count": 336,
     "metadata": {},
     "output_type": "execute_result"
    }
   ],
   "source": [
    "red_df = pd.DataFrame(reduced_stats)\n",
    "red_df.index = clean_stats.index\n",
    "red_df"
   ]
  },
  {
   "cell_type": "code",
   "execution_count": 337,
   "metadata": {},
   "outputs": [
    {
     "data": {
      "text/html": [
       "<div>\n",
       "<style scoped>\n",
       "    .dataframe tbody tr th:only-of-type {\n",
       "        vertical-align: middle;\n",
       "    }\n",
       "\n",
       "    .dataframe tbody tr th {\n",
       "        vertical-align: top;\n",
       "    }\n",
       "\n",
       "    .dataframe thead th {\n",
       "        text-align: right;\n",
       "    }\n",
       "</style>\n",
       "<table border=\"1\" class=\"dataframe\">\n",
       "  <thead>\n",
       "    <tr style=\"text-align: right;\">\n",
       "      <th></th>\n",
       "      <th>0</th>\n",
       "      <th>1</th>\n",
       "      <th>2</th>\n",
       "      <th>3</th>\n",
       "      <th>4</th>\n",
       "    </tr>\n",
       "  </thead>\n",
       "  <tbody>\n",
       "    <tr>\n",
       "      <th>0</th>\n",
       "      <td>1.000000e+00</td>\n",
       "      <td>2.393854e-14</td>\n",
       "      <td>2.088186e-16</td>\n",
       "      <td>4.191176e-16</td>\n",
       "      <td>6.220051e-16</td>\n",
       "    </tr>\n",
       "    <tr>\n",
       "      <th>1</th>\n",
       "      <td>2.393854e-14</td>\n",
       "      <td>1.000000e+00</td>\n",
       "      <td>2.215442e-16</td>\n",
       "      <td>-3.871625e-17</td>\n",
       "      <td>-6.522801e-16</td>\n",
       "    </tr>\n",
       "    <tr>\n",
       "      <th>2</th>\n",
       "      <td>2.088186e-16</td>\n",
       "      <td>2.215442e-16</td>\n",
       "      <td>1.000000e+00</td>\n",
       "      <td>1.908380e-16</td>\n",
       "      <td>2.536989e-16</td>\n",
       "    </tr>\n",
       "    <tr>\n",
       "      <th>3</th>\n",
       "      <td>4.191176e-16</td>\n",
       "      <td>-3.871625e-17</td>\n",
       "      <td>1.908380e-16</td>\n",
       "      <td>1.000000e+00</td>\n",
       "      <td>-2.487325e-16</td>\n",
       "    </tr>\n",
       "    <tr>\n",
       "      <th>4</th>\n",
       "      <td>6.220051e-16</td>\n",
       "      <td>-6.522801e-16</td>\n",
       "      <td>2.536989e-16</td>\n",
       "      <td>-2.487325e-16</td>\n",
       "      <td>1.000000e+00</td>\n",
       "    </tr>\n",
       "  </tbody>\n",
       "</table>\n",
       "</div>"
      ],
      "text/plain": [
       "              0             1             2             3             4\n",
       "0  1.000000e+00  2.393854e-14  2.088186e-16  4.191176e-16  6.220051e-16\n",
       "1  2.393854e-14  1.000000e+00  2.215442e-16 -3.871625e-17 -6.522801e-16\n",
       "2  2.088186e-16  2.215442e-16  1.000000e+00  1.908380e-16  2.536989e-16\n",
       "3  4.191176e-16 -3.871625e-17  1.908380e-16  1.000000e+00 -2.487325e-16\n",
       "4  6.220051e-16 -6.522801e-16  2.536989e-16 -2.487325e-16  1.000000e+00"
      ]
     },
     "execution_count": 337,
     "metadata": {},
     "output_type": "execute_result"
    }
   ],
   "source": [
    "red_df.corr()\n",
    "#correlation wildly varies\n",
    "#seems like the reduced components are typically not correlated"
   ]
  },
  {
   "cell_type": "code",
   "execution_count": 338,
   "metadata": {},
   "outputs": [
    {
     "data": {
      "text/plain": [
       "<seaborn.axisgrid.PairGrid at 0x20629d1a910>"
      ]
     },
     "execution_count": 338,
     "metadata": {},
     "output_type": "execute_result"
    },
    {
     "data": {
      "image/png": "[encoded data removed]",
      "text/plain": [
       "<Figure size 900x900 with 30 Axes>"
      ]
     },
     "metadata": {},
     "output_type": "display_data"
    }
   ],
   "source": [
    "sns.pairplot(red_df)\n",
    "#on the other hand, we can see some cyclical patterns emerge\n",
    "#when compared with each other"
   ]
  }
 ],
 "metadata": {
  "kernelspec": {
   "display_name": "Python 3",
   "language": "python",
   "name": "python3"
  },
  "language_info": {
   "codemirror_mode": {
    "name": "ipython",
    "version": 3
   },
   "file_extension": ".py",
   "mimetype": "text/x-python",
   "name": "python",
   "nbconvert_exporter": "python",
   "pygments_lexer": "ipython3",
   "version": "3.8.3"
  }
 },
 "nbformat": 4,
 "nbformat_minor": 4
}
